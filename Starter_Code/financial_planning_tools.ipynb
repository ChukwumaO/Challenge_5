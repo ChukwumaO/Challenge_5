{
 "cells": [
  {
   "cell_type": "markdown",
   "metadata": {},
   "source": [
    "# Financial Planning with APIs and Simulations\n",
    "\n",
    "In this Challenge, you’ll create two financial analysis tools by using a single Jupyter notebook:\n",
    "\n",
    "Part 1: A financial planner for emergencies. The members will be able to use this tool to visualize their current savings. The members can then determine if they have enough reserves for an emergency fund.\n",
    "\n",
    "Part 2: A financial planner for retirement. This tool will forecast the performance of their retirement portfolio in 30 years. To do this, the tool will make an Alpaca API call via the Alpaca SDK to get historical price data for use in Monte Carlo simulations.\n",
    "\n",
    "You’ll use the information from the Monte Carlo simulation to answer questions about the portfolio in your Jupyter notebook.\n",
    "\n"
   ]
  },
  {
   "cell_type": "code",
   "execution_count": 1,
   "metadata": {},
   "outputs": [],
   "source": [
    "# Import the required libraries and dependencies\n",
    "import os\n",
    "import requests\n",
    "import json\n",
    "import pandas as pd\n",
    "from dotenv import load_dotenv\n",
    "import alpaca_trade_api as tradeapi\n",
    "from MCForecastTools import MCSimulation\n",
    "\n",
    "%matplotlib inline"
   ]
  },
  {
   "cell_type": "code",
   "execution_count": 2,
   "metadata": {},
   "outputs": [
    {
     "data": {
      "text/plain": [
       "True"
      ]
     },
     "execution_count": 2,
     "metadata": {},
     "output_type": "execute_result"
    }
   ],
   "source": [
    "# Load the environment variables from the .env file\n",
    "#by calling the load_dotenv function\n",
    "load_dotenv(\"api.env\")"
   ]
  },
  {
   "cell_type": "markdown",
   "metadata": {},
   "source": [
    "## Part 1: Create a Financial Planner for Emergencies"
   ]
  },
  {
   "cell_type": "markdown",
   "metadata": {},
   "source": [
    "### Evaluate the Cryptocurrency Wallet by Using the Requests Library\n",
    "\n",
    "In this section, you’ll determine the current value of a member’s cryptocurrency wallet. You’ll collect the current prices for the Bitcoin and Ethereum cryptocurrencies by using the Python Requests library. For the prototype, you’ll assume that the member holds the 1.2 Bitcoins (BTC) and 5.3 Ethereum coins (ETH). To do all this, complete the following steps:\n",
    "\n",
    "1. Create a variable named `monthly_income`, and set its value to `12000`.\n",
    "\n",
    "2. Use the Requests library to get the current price (in US dollars) of Bitcoin (BTC) and Ethereum (ETH) by using the API endpoints that the starter code supplies.\n",
    "\n",
    "3. Navigate the JSON response object to access the current price of each coin, and store each in a variable.\n",
    "\n",
    "    > **Hint** Note the specific identifier for each cryptocurrency in the API JSON response. The Bitcoin identifier is `1`, and the Ethereum identifier is `1027`.\n",
    "\n",
    "4. Calculate the value, in US dollars, of the current amount of each cryptocurrency and of the entire cryptocurrency wallet.\n",
    "\n"
   ]
  },
  {
   "cell_type": "code",
   "execution_count": 3,
   "metadata": {},
   "outputs": [],
   "source": [
    "# The current number of coins for each cryptocurrency asset held in the portfolio.\n",
    "btc_coins = 1.2\n",
    "eth_coins = 5.3"
   ]
  },
  {
   "cell_type": "markdown",
   "metadata": {},
   "source": [
    "#### Step 1: Create a variable named `monthly_income`, and set its value to `12000`."
   ]
  },
  {
   "cell_type": "code",
   "execution_count": 4,
   "metadata": {},
   "outputs": [],
   "source": [
    "# The monthly amount for the member's household income\n",
    "monthly_income = 12000\n"
   ]
  },
  {
   "cell_type": "markdown",
   "metadata": {},
   "source": [
    "#### Review the endpoint URLs for the API calls to Free Crypto API in order to get the current pricing information for both BTC and ETH."
   ]
  },
  {
   "cell_type": "code",
   "execution_count": 5,
   "metadata": {},
   "outputs": [],
   "source": [
    "# The Free Crypto API Call endpoint URLs for the held cryptocurrency assets\n",
    "btc_url = \"https://api.alternative.me/v2/ticker/Bitcoin/?convert=USD\"\n",
    "eth_url = \"https://api.alternative.me/v2/ticker/Ethereum/?convert=USD\""
   ]
  },
  {
   "cell_type": "markdown",
   "metadata": {},
   "source": [
    "#### Step 2. Use the Requests library to get the current price (in US dollars) of Bitcoin (BTC) and Ethereum (ETH) by using the API endpoints that the starter code supplied."
   ]
  },
  {
   "cell_type": "code",
   "execution_count": 12,
   "metadata": {},
   "outputs": [
    {
     "name": "stdout",
     "output_type": "stream",
     "text": [
      "{\n",
      "    \"data\": {\n",
      "        \"1\": {\n",
      "            \"circulating_supply\": 19139456,\n",
      "            \"id\": 1,\n",
      "            \"last_updated\": 1662144528,\n",
      "            \"max_supply\": 21000000,\n",
      "            \"name\": \"Bitcoin\",\n",
      "            \"quotes\": {\n",
      "                \"USD\": {\n",
      "                    \"market_cap\": 380006304811,\n",
      "                    \"percent_change_1h\": 0.976013953932691,\n",
      "                    \"percent_change_24h\": 0.860350612040011,\n",
      "                    \"percent_change_7d\": -7.43027906188433,\n",
      "                    \"percentage_change_1h\": 0.976013953932691,\n",
      "                    \"percentage_change_24h\": 0.860350612040011,\n",
      "                    \"percentage_change_7d\": -7.43027906188433,\n",
      "                    \"price\": 20012.0,\n",
      "                    \"volume_24h\": 25251818049\n",
      "                }\n",
      "            },\n",
      "            \"rank\": 1,\n",
      "            \"symbol\": \"BTC\",\n",
      "            \"total_supply\": 19139456,\n",
      "            \"website_slug\": \"bitcoin\"\n",
      "        }\n",
      "    },\n",
      "    \"metadata\": {\n",
      "        \"error\": null,\n",
      "        \"num_cryptocurrencies\": 3116,\n",
      "        \"timestamp\": 1662144528\n",
      "    }\n",
      "}\n"
     ]
    }
   ],
   "source": [
    "# Using the Python requests library, make an API call to access the current price of BTC\n",
    "btc_response = requests.get(btc_url).json()\n",
    "\n",
    "# Use the json.dumps function to review the response data from the API call\n",
    "# Use the indent and sort_keys parameters to make the response object readable\n",
    "print(json.dumps(btc_response,indent = 4,sort_keys=True))\n"
   ]
  },
  {
   "cell_type": "code",
   "execution_count": 13,
   "metadata": {},
   "outputs": [
    {
     "name": "stdout",
     "output_type": "stream",
     "text": [
      "{\n",
      "    \"data\": {\n",
      "        \"1027\": {\n",
      "            \"circulating_supply\": 120355163,\n",
      "            \"id\": 1027,\n",
      "            \"last_updated\": 1662145137,\n",
      "            \"max_supply\": 120355163,\n",
      "            \"name\": \"Ethereum\",\n",
      "            \"quotes\": {\n",
      "                \"USD\": {\n",
      "                    \"market_cap\": 190595226132,\n",
      "                    \"percent_change_1h\": -0.224416187016429,\n",
      "                    \"percent_change_24h\": 1.2572805956193,\n",
      "                    \"percent_change_7d\": -6.75065051983182,\n",
      "                    \"percentage_change_1h\": -0.224416187016429,\n",
      "                    \"percentage_change_24h\": 1.2572805956193,\n",
      "                    \"percentage_change_7d\": -6.75065051983182,\n",
      "                    \"price\": 1582.51,\n",
      "                    \"volume_24h\": 15588111215\n",
      "                }\n",
      "            },\n",
      "            \"rank\": 2,\n",
      "            \"symbol\": \"ETH\",\n",
      "            \"total_supply\": 120355163,\n",
      "            \"website_slug\": \"ethereum\"\n",
      "        }\n",
      "    },\n",
      "    \"metadata\": {\n",
      "        \"error\": null,\n",
      "        \"num_cryptocurrencies\": 3116,\n",
      "        \"timestamp\": 1662145137\n",
      "    }\n",
      "}\n"
     ]
    }
   ],
   "source": [
    "# Using the Python requests library, make an API call to access the current price ETH\n",
    "eth_response = requests.get(eth_url).json()\n",
    "\n",
    "# Use the json.dumps function to review the response data from the API call\n",
    "# Use the indent and sort_keys parameters to make the response object readable\n",
    "print(json.dumps(eth_response, indent= 4,sort_keys=True))\n"
   ]
  },
  {
   "cell_type": "markdown",
   "metadata": {},
   "source": [
    "#### Step 3: Navigate the JSON response object to access the current price of each coin, and store each in a variable."
   ]
  },
  {
   "cell_type": "code",
   "execution_count": 14,
   "metadata": {},
   "outputs": [
    {
     "name": "stdout",
     "output_type": "stream",
     "text": [
      "20012.0\n"
     ]
    }
   ],
   "source": [
    "# Navigate the BTC response object to access the current price of BTC\n",
    "btc_price = btc_response['data']['1']['quotes']['USD']['price']\n",
    "\n",
    "# Print the current price of BTC\n",
    "print(btc_price)\n"
   ]
  },
  {
   "cell_type": "code",
   "execution_count": 15,
   "metadata": {},
   "outputs": [
    {
     "name": "stdout",
     "output_type": "stream",
     "text": [
      "1582.51\n"
     ]
    }
   ],
   "source": [
    "# Navigate the BTC response object to access the current price of ETH\n",
    "eth_price = eth_response['data']['1027']['quotes']['USD']['price']\n",
    "\n",
    "# Print the current price of ETH\n",
    "# YOUR CODE HERE\n",
    "print(eth_price)\n"
   ]
  },
  {
   "cell_type": "markdown",
   "metadata": {},
   "source": [
    "### Step 4: Calculate the value, in US dollars, of the current amount of each cryptocurrency and of the entire cryptocurrency wallet."
   ]
  },
  {
   "cell_type": "code",
   "execution_count": 67,
   "metadata": {},
   "outputs": [
    {
     "name": "stdout",
     "output_type": "stream",
     "text": [
      "24014.399999999998\n"
     ]
    }
   ],
   "source": [
    "# Compute the current value of the BTC holding \n",
    "btc_value = btc_price * btc_coins\n",
    "\n",
    "# Print current value of your holding in BTC\n",
    "print(btc_value)\n"
   ]
  },
  {
   "cell_type": "code",
   "execution_count": 17,
   "metadata": {},
   "outputs": [
    {
     "name": "stdout",
     "output_type": "stream",
     "text": [
      "8387.303\n"
     ]
    }
   ],
   "source": [
    "# Compute the current value of the ETH holding \n",
    "eth_value = eth_price * eth_coins\n",
    "\n",
    "# Print current value of your holding in ETH\n",
    "print(eth_value)\n"
   ]
  },
  {
   "cell_type": "code",
   "execution_count": 18,
   "metadata": {},
   "outputs": [
    {
     "name": "stdout",
     "output_type": "stream",
     "text": [
      "32401.702999999998\n"
     ]
    }
   ],
   "source": [
    "# Compute the total value of the cryptocurrency wallet\n",
    "# Add the value of the BTC holding to the value of the ETH holding\n",
    "total_crypto_wallet = eth_value + btc_value\n",
    "\n",
    "# Print current cryptocurrency wallet balance\n",
    "print(total_crypto_wallet)\n"
   ]
  },
  {
   "cell_type": "markdown",
   "metadata": {},
   "source": [
    "### Evaluate the Stock and Bond Holdings by Using the Alpaca SDK\n",
    "\n",
    "In this section, you’ll determine the current value of a member’s stock and bond holdings. You’ll make an API call to Alpaca via the Alpaca SDK to get the current closing prices of the SPDR S&P 500 ETF Trust (ticker: SPY) and of the iShares Core US Aggregate Bond ETF (ticker: AGG). For the prototype, assume that the member holds 110 shares of SPY, which represents the stock portion of their portfolio, and 200 shares of AGG, which represents the bond portion. To do all this, complete the following steps:\n",
    "\n",
    "1. In the `Starter_Code` folder, create an environment file (`.env`) to store the values of your Alpaca API key and Alpaca secret key.\n",
    "\n",
    "2. Set the variables for the Alpaca API and secret keys. Using the Alpaca SDK, create the Alpaca `tradeapi.REST` object. In this object, include the parameters for the Alpaca API key, the secret key, and the version number.\n",
    "\n",
    "3. Set the following parameters for the Alpaca API call:\n",
    "\n",
    "    - `tickers`: Use the tickers for the member’s stock and bond holdings.\n",
    "\n",
    "    - `timeframe`: Use a time frame of one day.\n",
    "\n",
    "    - `start_date` and `end_date`: Use the same date for these parameters, and format them with the date of the previous weekday (or `2020-08-07`). This is because you want the one closing price for the most-recent trading day.\n",
    "\n",
    "4. Get the current closing prices for `SPY` and `AGG` by using the Alpaca `get_bars` function. Format the response as a Pandas DataFrame by including the `df` property at the end of the `get_bars` function.\n",
    "\n",
    "5. Navigating the Alpaca response DataFrame, select the `SPY` and `AGG` closing prices, and store them as variables.\n",
    "\n",
    "6. Calculate the value, in US dollars, of the current amount of shares in each of the stock and bond portions of the portfolio, and print the results.\n"
   ]
  },
  {
   "cell_type": "markdown",
   "metadata": {},
   "source": [
    "#### Review the total number of shares held in both (SPY) and (AGG)."
   ]
  },
  {
   "cell_type": "code",
   "execution_count": 32,
   "metadata": {},
   "outputs": [],
   "source": [
    "# Current amount of shares held in both the stock (SPY) and bond (AGG) portion of the portfolio.\n",
    "spy_shares = 110\n",
    "agg_shares = 200\n"
   ]
  },
  {
   "cell_type": "markdown",
   "metadata": {},
   "source": [
    "#### Step 1: In the `Starter_Code` folder, create an environment file (`.env`) to store the values of your Alpaca API key and Alpaca secret key."
   ]
  },
  {
   "cell_type": "markdown",
   "metadata": {},
   "source": [
    "#### Step 2: Set the variables for the Alpaca API and secret keys. Using the Alpaca SDK, create the Alpaca `tradeapi.REST` object. In this object, include the parameters for the Alpaca API key, the secret key, and the version number."
   ]
  },
  {
   "cell_type": "code",
   "execution_count": 20,
   "metadata": {},
   "outputs": [],
   "source": [
    "# Set the variables for the Alpaca API and secret keys\n",
    "alpaca_api_key = os.getenv(\"ALPACA_API_KEY\")\n",
    "alpaca_secret_key = os.getenv(\"ALPACA_SECRET_KEY\")\n",
    "\n",
    "# Create the Alpaca tradeapi.REST object\n",
    "alpaca = tradeapi.REST(\n",
    "    alpaca_api_key,\n",
    "    alpaca_secret_key,\n",
    "    api_version=\"v2\")\n"
   ]
  },
  {
   "cell_type": "markdown",
   "metadata": {},
   "source": [
    "#### Step 3: Set the following parameters for the Alpaca API call:\n",
    "\n",
    "- `tickers`: Use the tickers for the member’s stock and bond holdings.\n",
    "\n",
    "- `timeframe`: Use a time frame of one day.\n",
    "\n",
    "- `start_date` and `end_date`: Use the same date for these parameters, and format them with the date of the previous weekday (or `2020-08-07`). This is because you want the one closing price for the most-recent trading day.\n"
   ]
  },
  {
   "cell_type": "code",
   "execution_count": 24,
   "metadata": {},
   "outputs": [],
   "source": [
    "# Set the tickers for both the bond and stock portion of the portfolio\n",
    "tickers = ['SPY','AGG']\n",
    "\n",
    "# Set timeframe to 1Day\n",
    "timeframe = '1Day'\n",
    "\n",
    "# Format current date as ISO format\n",
    "# Set both the start and end date at the date of your prior weekday \n",
    "# This will give you the closing price of the previous trading day\n",
    "# Alternatively you can use a start and end date of 2020-08-07\n",
    "start_date = pd.Timestamp(\"2022-09-01\", tz=\"America/New_York\").isoformat()\n",
    "end_date = pd.Timestamp(\"2022-09-01\", tz=\"America/New_York\").isoformat()\n"
   ]
  },
  {
   "cell_type": "markdown",
   "metadata": {},
   "source": [
    "#### Step 4: Get the current closing prices for `SPY` and `AGG` by using the Alpaca `get_bars` function. Format the response as a Pandas DataFrame by including the `df` property at the end of the `get_bars` function."
   ]
  },
  {
   "cell_type": "code",
   "execution_count": 25,
   "metadata": {},
   "outputs": [
    {
     "data": {
      "text/html": [
       "<div>\n",
       "<style scoped>\n",
       "    .dataframe tbody tr th:only-of-type {\n",
       "        vertical-align: middle;\n",
       "    }\n",
       "\n",
       "    .dataframe tbody tr th {\n",
       "        vertical-align: top;\n",
       "    }\n",
       "\n",
       "    .dataframe thead tr th {\n",
       "        text-align: left;\n",
       "    }\n",
       "\n",
       "    .dataframe thead tr:last-of-type th {\n",
       "        text-align: right;\n",
       "    }\n",
       "</style>\n",
       "<table border=\"1\" class=\"dataframe\">\n",
       "  <thead>\n",
       "    <tr>\n",
       "      <th></th>\n",
       "      <th colspan=\"7\" halign=\"left\">SPY</th>\n",
       "      <th colspan=\"7\" halign=\"left\">AGG</th>\n",
       "    </tr>\n",
       "    <tr>\n",
       "      <th></th>\n",
       "      <th>open</th>\n",
       "      <th>high</th>\n",
       "      <th>low</th>\n",
       "      <th>close</th>\n",
       "      <th>volume</th>\n",
       "      <th>trade_count</th>\n",
       "      <th>vwap</th>\n",
       "      <th>open</th>\n",
       "      <th>high</th>\n",
       "      <th>low</th>\n",
       "      <th>close</th>\n",
       "      <th>volume</th>\n",
       "      <th>trade_count</th>\n",
       "      <th>vwap</th>\n",
       "    </tr>\n",
       "    <tr>\n",
       "      <th>timestamp</th>\n",
       "      <th></th>\n",
       "      <th></th>\n",
       "      <th></th>\n",
       "      <th></th>\n",
       "      <th></th>\n",
       "      <th></th>\n",
       "      <th></th>\n",
       "      <th></th>\n",
       "      <th></th>\n",
       "      <th></th>\n",
       "      <th></th>\n",
       "      <th></th>\n",
       "      <th></th>\n",
       "      <th></th>\n",
       "    </tr>\n",
       "  </thead>\n",
       "  <tbody>\n",
       "    <tr>\n",
       "      <th>2022-09-01 04:00:00+00:00</th>\n",
       "      <td>392.88</td>\n",
       "      <td>396.78</td>\n",
       "      <td>390.04</td>\n",
       "      <td>396.42</td>\n",
       "      <td>78315802</td>\n",
       "      <td>594723</td>\n",
       "      <td>393.055687</td>\n",
       "      <td>100.07</td>\n",
       "      <td>100.145</td>\n",
       "      <td>99.66</td>\n",
       "      <td>100.07</td>\n",
       "      <td>8960595</td>\n",
       "      <td>32259</td>\n",
       "      <td>99.954674</td>\n",
       "    </tr>\n",
       "  </tbody>\n",
       "</table>\n",
       "</div>"
      ],
      "text/plain": [
       "                              SPY                                    \\\n",
       "                             open    high     low   close    volume   \n",
       "timestamp                                                             \n",
       "2022-09-01 04:00:00+00:00  392.88  396.78  390.04  396.42  78315802   \n",
       "\n",
       "                                                      AGG                  \\\n",
       "                          trade_count        vwap    open     high    low   \n",
       "timestamp                                                                   \n",
       "2022-09-01 04:00:00+00:00      594723  393.055687  100.07  100.145  99.66   \n",
       "\n",
       "                                                                   \n",
       "                            close   volume trade_count       vwap  \n",
       "timestamp                                                          \n",
       "2022-09-01 04:00:00+00:00  100.07  8960595       32259  99.954674  "
      ]
     },
     "execution_count": 25,
     "metadata": {},
     "output_type": "execute_result"
    }
   ],
   "source": [
    "# Use the Alpaca get_bars function to get current closing prices the portfolio\n",
    "# Be sure to set the `df` property after the function to format the response object as a DataFrame\n",
    "df_portfolio = alpaca.get_bars(\n",
    "    tickers,\n",
    "    timeframe,\n",
    "    start = end_date,\n",
    "    end = end_date\n",
    ").df\n",
    "\n",
    "# Reorganize the DataFrame\n",
    "# Separate ticker data\n",
    "SPY = df_portfolio[df_portfolio['symbol']=='SPY'].drop('symbol', axis=1)\n",
    "AGG = df_portfolio[df_portfolio['symbol']=='AGG'].drop('symbol', axis=1)\n",
    "\n",
    "# Concatenate the ticker DataFrames\n",
    "df_portfolio = pd.concat([SPY, AGG],axis=1, keys=['SPY','AGG'])\n",
    "\n",
    "# Review the first 5 rows of the Alpaca DataFrame\n",
    "df_portfolio.head()\n"
   ]
  },
  {
   "cell_type": "markdown",
   "metadata": {},
   "source": [
    "#### Step 5: Navigating the Alpaca response DataFrame, select the `SPY` and `AGG` closing prices, and store them as variables."
   ]
  },
  {
   "cell_type": "code",
   "execution_count": 26,
   "metadata": {},
   "outputs": [
    {
     "name": "stdout",
     "output_type": "stream",
     "text": [
      "100.07\n"
     ]
    }
   ],
   "source": [
    "# Access the closing price for AGG from the Alpaca DataFrame\n",
    "# Converting the value to a floating point number\n",
    "agg_close_price = float(df_portfolio['AGG']['close'])\n",
    "\n",
    "# Print the AGG closing price\n",
    "print(agg_close_price)\n"
   ]
  },
  {
   "cell_type": "code",
   "execution_count": 30,
   "metadata": {},
   "outputs": [
    {
     "name": "stdout",
     "output_type": "stream",
     "text": [
      "396.42\n"
     ]
    }
   ],
   "source": [
    "# Access the closing price for SPY from the Alpaca DataFrame\n",
    "# Converting the value to a floating point number\n",
    "spy_close_price = float(df_portfolio['SPY']['close'])\n",
    "\n",
    "# Print the SPY closing price\n",
    "print(spy_close_price)\n"
   ]
  },
  {
   "cell_type": "markdown",
   "metadata": {},
   "source": [
    "#### Step 6: Calculate the value, in US dollars, of the current amount of shares in each of the stock and bond portions of the portfolio, and print the results."
   ]
  },
  {
   "cell_type": "code",
   "execution_count": 33,
   "metadata": {},
   "outputs": [
    {
     "name": "stdout",
     "output_type": "stream",
     "text": [
      "20014.0\n"
     ]
    }
   ],
   "source": [
    "# Calculate the current value of the bond portion of the portfolio\n",
    "agg_value = agg_close_price * agg_shares\n",
    "\n",
    "# Print the current value of the bond portfolio\n",
    "print(agg_value)\n"
   ]
  },
  {
   "cell_type": "code",
   "execution_count": 72,
   "metadata": {},
   "outputs": [
    {
     "name": "stdout",
     "output_type": "stream",
     "text": [
      "43606.200000000004\n"
     ]
    }
   ],
   "source": [
    "# Calculate the current value of the stock portion of the portfolio\n",
    "spy_value = spy_close_price * spy_shares\n",
    "\n",
    "# Print the current value of the stock portfolio\n",
    "print(spy_value)\n"
   ]
  },
  {
   "cell_type": "code",
   "execution_count": 35,
   "metadata": {},
   "outputs": [
    {
     "name": "stdout",
     "output_type": "stream",
     "text": [
      "63620.200000000004\n"
     ]
    }
   ],
   "source": [
    "# Calculate the total value of the stock and bond portion of the portfolio\n",
    "total_stocks_bonds = spy_value + agg_value\n",
    "\n",
    "# Print the current balance of the stock and bond portion of the portfolio\n",
    "print(total_stocks_bonds)\n"
   ]
  },
  {
   "cell_type": "code",
   "execution_count": 36,
   "metadata": {},
   "outputs": [
    {
     "name": "stdout",
     "output_type": "stream",
     "text": [
      "96021.903\n"
     ]
    }
   ],
   "source": [
    "# Calculate the total value of the member's entire savings portfolio\n",
    "# Add the value of the cryptocurrency walled to the value of the total stocks and bonds\n",
    "total_portfolio = total_stocks_bonds + total_crypto_wallet\n",
    "\n",
    "# Print current cryptocurrency wallet balance\n",
    "print(total_portfolio)\n"
   ]
  },
  {
   "cell_type": "markdown",
   "metadata": {},
   "source": [
    "### Evaluate the Emergency Fund\n",
    "\n",
    "In this section, you’ll use the valuations for the cryptocurrency wallet and for the stock and bond portions of the portfolio to determine if the credit union member has enough savings to build an emergency fund into their financial plan. To do this, complete the following steps:\n",
    "\n",
    "1. Create a Python list named `savings_data` that has two elements. The first element contains the total value of the cryptocurrency wallet. The second element contains the total value of the stock and bond portions of the portfolio.\n",
    "\n",
    "2. Use the `savings_data` list to create a Pandas DataFrame named `savings_df`, and then display this DataFrame. The function to create the DataFrame should take the following three parameters:\n",
    "\n",
    "    - `savings_data`: Use the list that you just created.\n",
    "\n",
    "    - `columns`: Set this parameter equal to a Python list with a single value called `amount`.\n",
    "\n",
    "    - `index`: Set this parameter equal to a Python list with the values of `crypto` and `stock/bond`.\n",
    "\n",
    "3. Use the `savings_df` DataFrame to plot a pie chart that visualizes the composition of the member’s portfolio. The y-axis of the pie chart uses `amount`. Be sure to add a title.\n",
    "\n",
    "4. Using Python, determine if the current portfolio has enough to create an emergency fund as part of the member’s financial plan. Ideally, an emergency fund should equal to three times the member’s monthly income. To do this, implement the following steps:\n",
    "\n",
    "    1. Create a variable named `emergency_fund_value`, and set it equal to three times the value of the member’s `monthly_income` of $12000. (You set this earlier in Part 1).\n",
    "\n",
    "    2. Create a series of three if statements to determine if the member’s total portfolio is large enough to fund the emergency portfolio:\n",
    "\n",
    "        1. If the total portfolio value is greater than the emergency fund value, display a message congratulating the member for having enough money in this fund.\n",
    "\n",
    "        2. Else if the total portfolio value is equal to the emergency fund value, display a message congratulating the member on reaching this important financial goal.\n",
    "\n",
    "        3. Else the total portfolio is less than the emergency fund value, so display a message showing how many dollars away the member is from reaching the goal. (Subtract the total portfolio value from the emergency fund value.)\n"
   ]
  },
  {
   "cell_type": "markdown",
   "metadata": {},
   "source": [
    "#### Step 1: Create a Python list named `savings_data` that has two elements. The first element contains the total value of the cryptocurrency wallet. The second element contains the total value of the stock and bond portions of the portfolio."
   ]
  },
  {
   "cell_type": "code",
   "execution_count": 37,
   "metadata": {},
   "outputs": [
    {
     "name": "stdout",
     "output_type": "stream",
     "text": [
      "[32401.702999999998, 63620.200000000004]\n"
     ]
    }
   ],
   "source": [
    "# Consolidate financial assets data into a Python list\n",
    "savings_data = [total_crypto_wallet, total_stocks_bonds]\n",
    "\n",
    "# Review the Python list savings_data\n",
    "print(savings_data)\n",
    "    "
   ]
  },
  {
   "cell_type": "markdown",
   "metadata": {},
   "source": [
    "#### Step 2: Use the `savings_data` list to create a Pandas DataFrame named `savings_df`, and then display this DataFrame. The function to create the DataFrame should take the following three parameters:\n",
    "\n",
    "- `savings_data`: Use the list that you just created.\n",
    "\n",
    "- `columns`: Set this parameter equal to a Python list with a single value called `amount`.\n",
    "\n",
    "- `index`: Set this parameter equal to a Python list with the values of `crypto` and `stock/bond`.\n"
   ]
  },
  {
   "cell_type": "code",
   "execution_count": 38,
   "metadata": {},
   "outputs": [
    {
     "data": {
      "text/html": [
       "<div>\n",
       "<style scoped>\n",
       "    .dataframe tbody tr th:only-of-type {\n",
       "        vertical-align: middle;\n",
       "    }\n",
       "\n",
       "    .dataframe tbody tr th {\n",
       "        vertical-align: top;\n",
       "    }\n",
       "\n",
       "    .dataframe thead th {\n",
       "        text-align: right;\n",
       "    }\n",
       "</style>\n",
       "<table border=\"1\" class=\"dataframe\">\n",
       "  <thead>\n",
       "    <tr style=\"text-align: right;\">\n",
       "      <th></th>\n",
       "      <th>amount</th>\n",
       "    </tr>\n",
       "  </thead>\n",
       "  <tbody>\n",
       "    <tr>\n",
       "      <th>crypto</th>\n",
       "      <td>32401.703</td>\n",
       "    </tr>\n",
       "    <tr>\n",
       "      <th>stock/bond</th>\n",
       "      <td>63620.200</td>\n",
       "    </tr>\n",
       "  </tbody>\n",
       "</table>\n",
       "</div>"
      ],
      "text/plain": [
       "               amount\n",
       "crypto      32401.703\n",
       "stock/bond  63620.200"
      ]
     },
     "execution_count": 38,
     "metadata": {},
     "output_type": "execute_result"
    }
   ],
   "source": [
    "# Create a Pandas DataFrame called savings_df \n",
    "savings_df = pd.DataFrame(savings_data, columns = ['amount'],index = ['crypto','stock/bond'])\n",
    "\n",
    "# Display the savings_df DataFrame\n",
    "savings_df\n"
   ]
  },
  {
   "cell_type": "markdown",
   "metadata": {},
   "source": [
    "#### Step 3: Use the `savings_df` DataFrame to plot a pie chart that visualizes the composition of the member’s portfolio. The y-axis of the pie chart uses `amount`. Be sure to add a title."
   ]
  },
  {
   "cell_type": "code",
   "execution_count": 41,
   "metadata": {},
   "outputs": [
    {
     "data": {
      "text/plain": [
       "<AxesSubplot:title={'center':'Portfolio Composition'}, ylabel='amount'>"
      ]
     },
     "execution_count": 41,
     "metadata": {},
     "output_type": "execute_result"
    },
    {
     "data": {
      "image/png": "[encoded data removed]",
      "text/plain": [
       "<Figure size 720x504 with 1 Axes>"
      ]
     },
     "metadata": {},
     "output_type": "display_data"
    }
   ],
   "source": [
    "# Plot the total value of the member's portfolio (crypto and stock/bond) in a pie chart\n",
    "savings_df.plot.pie(y=\"amount\", figsize=(10, 7), title=\"Portfolio Composition\")"
   ]
  },
  {
   "cell_type": "markdown",
   "metadata": {},
   "source": [
    "#### Step 4: Using Python, determine if the current portfolio has enough to create an emergency fund as part of the member’s financial plan. Ideally, an emergency fund should equal to three times the member’s monthly income. To do this, implement the following steps:\n",
    "\n",
    "Step 1. Create a variable named `emergency_fund_value`, and set it equal to three times the value of the member’s `monthly_income` of 12000. (You set this earlier in Part 1).\n",
    "\n",
    "Step 2. Create a series of three if statements to determine if the member’s total portfolio is large enough to fund the emergency portfolio:\n",
    "\n",
    "* If the total portfolio value is greater than the emergency fund value, display a message congratulating the member for having enough money in this fund.\n",
    "\n",
    "* Else if the total portfolio value is equal to the emergency fund value, display a message congratulating the member on reaching this important financial goal.\n",
    "\n",
    "* Else the total portfolio is less than the emergency fund value, so display a message showing how many dollars away the member is from reaching the goal. (Subtract the total portfolio value from the emergency fund value.)\n"
   ]
  },
  {
   "cell_type": "markdown",
   "metadata": {},
   "source": [
    "##### Step 4-1: Create a variable named `emergency_fund_value`, and set it equal to three times the value of the member’s `monthly_income` of 12000. (You set this earlier in Part 1)."
   ]
  },
  {
   "cell_type": "code",
   "execution_count": 42,
   "metadata": {},
   "outputs": [],
   "source": [
    "# Create a variable named emergency_fund_value\n",
    "emergency_fund_value = monthly_income * 3\n"
   ]
  },
  {
   "cell_type": "markdown",
   "metadata": {},
   "source": [
    "##### Step 4-2: Create a series of three if statements to determine if the member’s total portfolio is large enough to fund the emergency portfolio:\n",
    "\n",
    "* If the total portfolio value is greater than the emergency fund value, display a message congratulating the member for having enough money in this fund.\n",
    "\n",
    "* Else if the total portfolio value is equal to the emergency fund value, display a message congratulating the member on reaching this important financial goal.\n",
    "\n",
    "* Else the total portfolio is less than the emergency fund value, so display a message showing how many dollars away the member is from reaching the goal. (Subtract the total portfolio value from the emergency fund value.)"
   ]
  },
  {
   "cell_type": "code",
   "execution_count": 43,
   "metadata": {},
   "outputs": [
    {
     "name": "stdout",
     "output_type": "stream",
     "text": [
      "Congratulations! You have enough money in this fund!\n"
     ]
    }
   ],
   "source": [
    "# Evaluate the possibility of creating an emergency fund with 3 conditions:\n",
    "if total_portfolio > emergency_fund_value:\n",
    "    print(\"Congratulations! You have enough money in this fund!\")\n",
    "elif total_portfolio < emergency_fund_value:\n",
    "    print(f'You are USD {round(emergency_fund_value - total_portfolio,2)} away from reaching the emergency fund goal')\n",
    "else:\n",
    "    print(\"Congratulations, you have reached your emergency fund target\")\n"
   ]
  },
  {
   "cell_type": "markdown",
   "metadata": {},
   "source": [
    "## Part 2: Create a Financial Planner for Retirement"
   ]
  },
  {
   "cell_type": "markdown",
   "metadata": {},
   "source": [
    "### Create the Monte Carlo Simulation\n",
    "\n",
    "In this section, you’ll use the MCForecastTools library to create a Monte Carlo simulation for the member’s savings portfolio. To do this, complete the following steps:\n",
    "\n",
    "1. Make an API call via the Alpaca SDK to get 3 years of historical closing prices for a traditional 60/40 portfolio split: 60% stocks (SPY) and 40% bonds (AGG).\n",
    "\n",
    "2. Run a Monte Carlo simulation of 500 samples and 30 years for the 60/40 portfolio, and then plot the results.The following image shows the overlay line plot resulting from a simulation with these characteristics. However, because a random number generator is used to run each live Monte Carlo simulation, your image will differ slightly from this exact image:\n",
    "\n",
    "![A screenshot depicts the resulting plot.](Images/5-4-monte-carlo-line-plot.png)\n",
    "\n",
    "3. Plot the probability distribution of the Monte Carlo simulation. Plot the probability distribution of the Monte Carlo simulation. The following image shows the histogram plot resulting from a simulation with these characteristics. However, because a random number generator is used to run each live Monte Carlo simulation, your image will differ slightly from this exact image:\n",
    "\n",
    "![A screenshot depicts the histogram plot.](Images/5-4-monte-carlo-histogram.png)\n",
    "\n",
    "4. Generate the summary statistics for the Monte Carlo simulation.\n",
    "\n"
   ]
  },
  {
   "cell_type": "markdown",
   "metadata": {},
   "source": [
    "#### Step 1: Make an API call via the Alpaca SDK to get 3 years of historical closing prices for a traditional 60/40 portfolio split: 60% stocks (SPY) and 40% bonds (AGG)."
   ]
  },
  {
   "cell_type": "code",
   "execution_count": 44,
   "metadata": {},
   "outputs": [],
   "source": [
    "# Set start and end dates of 3 years back from your current date\n",
    "# Alternatively, you can use an end date of 2020-08-07 and work 3 years back from that date \n",
    "start_date = pd.Timestamp(\"2019-09-03\", tz=\"America/New_York\").isoformat()\n",
    "end_date = pd.Timestamp(\"2022-09-03\", tz=\"America/New_York\").isoformat()\n",
    "\n",
    "# Set number of rows to 1000 to retrieve the maximum amount of rows\n",
    "num_rows = 1000"
   ]
  },
  {
   "cell_type": "code",
   "execution_count": 46,
   "metadata": {},
   "outputs": [
    {
     "data": {
      "text/html": [
       "<div>\n",
       "<style scoped>\n",
       "    .dataframe tbody tr th:only-of-type {\n",
       "        vertical-align: middle;\n",
       "    }\n",
       "\n",
       "    .dataframe tbody tr th {\n",
       "        vertical-align: top;\n",
       "    }\n",
       "\n",
       "    .dataframe thead tr th {\n",
       "        text-align: left;\n",
       "    }\n",
       "\n",
       "    .dataframe thead tr:last-of-type th {\n",
       "        text-align: right;\n",
       "    }\n",
       "</style>\n",
       "<table border=\"1\" class=\"dataframe\">\n",
       "  <thead>\n",
       "    <tr>\n",
       "      <th></th>\n",
       "      <th colspan=\"7\" halign=\"left\">SPY</th>\n",
       "      <th colspan=\"7\" halign=\"left\">AGG</th>\n",
       "    </tr>\n",
       "    <tr>\n",
       "      <th></th>\n",
       "      <th>open</th>\n",
       "      <th>high</th>\n",
       "      <th>low</th>\n",
       "      <th>close</th>\n",
       "      <th>volume</th>\n",
       "      <th>trade_count</th>\n",
       "      <th>vwap</th>\n",
       "      <th>open</th>\n",
       "      <th>high</th>\n",
       "      <th>low</th>\n",
       "      <th>close</th>\n",
       "      <th>volume</th>\n",
       "      <th>trade_count</th>\n",
       "      <th>vwap</th>\n",
       "    </tr>\n",
       "    <tr>\n",
       "      <th>timestamp</th>\n",
       "      <th></th>\n",
       "      <th></th>\n",
       "      <th></th>\n",
       "      <th></th>\n",
       "      <th></th>\n",
       "      <th></th>\n",
       "      <th></th>\n",
       "      <th></th>\n",
       "      <th></th>\n",
       "      <th></th>\n",
       "      <th></th>\n",
       "      <th></th>\n",
       "      <th></th>\n",
       "      <th></th>\n",
       "    </tr>\n",
       "  </thead>\n",
       "  <tbody>\n",
       "    <tr>\n",
       "      <th>2019-09-03 04:00:00+00:00</th>\n",
       "      <td>290.56</td>\n",
       "      <td>291.580</td>\n",
       "      <td>289.270</td>\n",
       "      <td>290.74</td>\n",
       "      <td>69233875</td>\n",
       "      <td>362212</td>\n",
       "      <td>290.492676</td>\n",
       "      <td>113.84</td>\n",
       "      <td>114.1200</td>\n",
       "      <td>113.690</td>\n",
       "      <td>113.84</td>\n",
       "      <td>6197557</td>\n",
       "      <td>24789</td>\n",
       "      <td>113.939811</td>\n",
       "    </tr>\n",
       "    <tr>\n",
       "      <th>2019-09-04 04:00:00+00:00</th>\n",
       "      <td>293.15</td>\n",
       "      <td>294.055</td>\n",
       "      <td>292.310</td>\n",
       "      <td>294.04</td>\n",
       "      <td>47160461</td>\n",
       "      <td>236850</td>\n",
       "      <td>293.322384</td>\n",
       "      <td>113.82</td>\n",
       "      <td>114.0801</td>\n",
       "      <td>113.820</td>\n",
       "      <td>114.04</td>\n",
       "      <td>3814413</td>\n",
       "      <td>15256</td>\n",
       "      <td>114.008878</td>\n",
       "    </tr>\n",
       "    <tr>\n",
       "      <th>2019-09-05 04:00:00+00:00</th>\n",
       "      <td>296.78</td>\n",
       "      <td>298.830</td>\n",
       "      <td>294.001</td>\n",
       "      <td>297.82</td>\n",
       "      <td>83356779</td>\n",
       "      <td>377089</td>\n",
       "      <td>297.528062</td>\n",
       "      <td>113.61</td>\n",
       "      <td>113.6700</td>\n",
       "      <td>113.300</td>\n",
       "      <td>113.55</td>\n",
       "      <td>5336501</td>\n",
       "      <td>19147</td>\n",
       "      <td>113.455162</td>\n",
       "    </tr>\n",
       "    <tr>\n",
       "      <th>2019-09-06 04:00:00+00:00</th>\n",
       "      <td>298.21</td>\n",
       "      <td>298.760</td>\n",
       "      <td>297.420</td>\n",
       "      <td>298.05</td>\n",
       "      <td>49676444</td>\n",
       "      <td>255431</td>\n",
       "      <td>298.223331</td>\n",
       "      <td>113.66</td>\n",
       "      <td>113.7199</td>\n",
       "      <td>113.555</td>\n",
       "      <td>113.67</td>\n",
       "      <td>3675151</td>\n",
       "      <td>12845</td>\n",
       "      <td>113.658735</td>\n",
       "    </tr>\n",
       "    <tr>\n",
       "      <th>2019-09-09 04:00:00+00:00</th>\n",
       "      <td>299.15</td>\n",
       "      <td>299.240</td>\n",
       "      <td>297.160</td>\n",
       "      <td>298.20</td>\n",
       "      <td>51260290</td>\n",
       "      <td>241462</td>\n",
       "      <td>298.158399</td>\n",
       "      <td>113.39</td>\n",
       "      <td>113.3900</td>\n",
       "      <td>113.180</td>\n",
       "      <td>113.19</td>\n",
       "      <td>2747454</td>\n",
       "      <td>10594</td>\n",
       "      <td>113.266602</td>\n",
       "    </tr>\n",
       "  </tbody>\n",
       "</table>\n",
       "</div>"
      ],
      "text/plain": [
       "                              SPY                                      \\\n",
       "                             open     high      low   close    volume   \n",
       "timestamp                                                               \n",
       "2019-09-03 04:00:00+00:00  290.56  291.580  289.270  290.74  69233875   \n",
       "2019-09-04 04:00:00+00:00  293.15  294.055  292.310  294.04  47160461   \n",
       "2019-09-05 04:00:00+00:00  296.78  298.830  294.001  297.82  83356779   \n",
       "2019-09-06 04:00:00+00:00  298.21  298.760  297.420  298.05  49676444   \n",
       "2019-09-09 04:00:00+00:00  299.15  299.240  297.160  298.20  51260290   \n",
       "\n",
       "                                                      AGG                     \\\n",
       "                          trade_count        vwap    open      high      low   \n",
       "timestamp                                                                      \n",
       "2019-09-03 04:00:00+00:00      362212  290.492676  113.84  114.1200  113.690   \n",
       "2019-09-04 04:00:00+00:00      236850  293.322384  113.82  114.0801  113.820   \n",
       "2019-09-05 04:00:00+00:00      377089  297.528062  113.61  113.6700  113.300   \n",
       "2019-09-06 04:00:00+00:00      255431  298.223331  113.66  113.7199  113.555   \n",
       "2019-09-09 04:00:00+00:00      241462  298.158399  113.39  113.3900  113.180   \n",
       "\n",
       "                                                                    \n",
       "                            close   volume trade_count        vwap  \n",
       "timestamp                                                           \n",
       "2019-09-03 04:00:00+00:00  113.84  6197557       24789  113.939811  \n",
       "2019-09-04 04:00:00+00:00  114.04  3814413       15256  114.008878  \n",
       "2019-09-05 04:00:00+00:00  113.55  5336501       19147  113.455162  \n",
       "2019-09-06 04:00:00+00:00  113.67  3675151       12845  113.658735  \n",
       "2019-09-09 04:00:00+00:00  113.19  2747454       10594  113.266602  "
      ]
     },
     "execution_count": 46,
     "metadata": {},
     "output_type": "execute_result"
    }
   ],
   "source": [
    "# Use the Alpaca get_bars function to make the API call to get the 3 years worth of pricing data\n",
    "# The tickers and timeframe parameters should have been set in Part 1 of this activity \n",
    "# The start and end dates should be updated with the information set above\n",
    "# Remember to add the df property to the end of the call so the response is returned as a DataFrame\n",
    "prices_df = alpaca.get_bars(\n",
    "    tickers,\n",
    "    timeframe,\n",
    "    start=start_date,\n",
    "    end=end_date\n",
    ").df\n",
    "# Reorganize the DataFrame\n",
    "# Separate ticker data\n",
    "# YOUR CODE HERE\n",
    "\n",
    "SPY = prices_df[prices_df['symbol']=='SPY'].drop('symbol', axis=1)\n",
    "AGG = prices_df[prices_df['symbol']=='AGG'].drop('symbol', axis=1)\n",
    "\n",
    "\n",
    "# Concatenate the ticker DataFrames\n",
    "# YOUR CODE HERE\n",
    "prices_df = pd.concat([SPY, AGG], axis=1, keys=[\"SPY\", \"AGG\"])\n",
    "\n",
    "# Display both the first and last five rows of the DataFrame\n",
    "# YOUR CODE HERE\n",
    "# YOUR CODE HERE\n",
    "prices_df.head()\n"
   ]
  },
  {
   "cell_type": "code",
   "execution_count": 47,
   "metadata": {},
   "outputs": [
    {
     "data": {
      "text/html": [
       "<div>\n",
       "<style scoped>\n",
       "    .dataframe tbody tr th:only-of-type {\n",
       "        vertical-align: middle;\n",
       "    }\n",
       "\n",
       "    .dataframe tbody tr th {\n",
       "        vertical-align: top;\n",
       "    }\n",
       "\n",
       "    .dataframe thead tr th {\n",
       "        text-align: left;\n",
       "    }\n",
       "\n",
       "    .dataframe thead tr:last-of-type th {\n",
       "        text-align: right;\n",
       "    }\n",
       "</style>\n",
       "<table border=\"1\" class=\"dataframe\">\n",
       "  <thead>\n",
       "    <tr>\n",
       "      <th></th>\n",
       "      <th colspan=\"7\" halign=\"left\">SPY</th>\n",
       "      <th colspan=\"7\" halign=\"left\">AGG</th>\n",
       "    </tr>\n",
       "    <tr>\n",
       "      <th></th>\n",
       "      <th>open</th>\n",
       "      <th>high</th>\n",
       "      <th>low</th>\n",
       "      <th>close</th>\n",
       "      <th>volume</th>\n",
       "      <th>trade_count</th>\n",
       "      <th>vwap</th>\n",
       "      <th>open</th>\n",
       "      <th>high</th>\n",
       "      <th>low</th>\n",
       "      <th>close</th>\n",
       "      <th>volume</th>\n",
       "      <th>trade_count</th>\n",
       "      <th>vwap</th>\n",
       "    </tr>\n",
       "    <tr>\n",
       "      <th>timestamp</th>\n",
       "      <th></th>\n",
       "      <th></th>\n",
       "      <th></th>\n",
       "      <th></th>\n",
       "      <th></th>\n",
       "      <th></th>\n",
       "      <th></th>\n",
       "      <th></th>\n",
       "      <th></th>\n",
       "      <th></th>\n",
       "      <th></th>\n",
       "      <th></th>\n",
       "      <th></th>\n",
       "      <th></th>\n",
       "    </tr>\n",
       "  </thead>\n",
       "  <tbody>\n",
       "    <tr>\n",
       "      <th>2022-08-29 04:00:00+00:00</th>\n",
       "      <td>402.23</td>\n",
       "      <td>405.840</td>\n",
       "      <td>401.1999</td>\n",
       "      <td>402.63</td>\n",
       "      <td>65225959</td>\n",
       "      <td>489086</td>\n",
       "      <td>403.552893</td>\n",
       "      <td>101.27</td>\n",
       "      <td>101.280</td>\n",
       "      <td>101.055</td>\n",
       "      <td>101.12</td>\n",
       "      <td>7508760</td>\n",
       "      <td>15383</td>\n",
       "      <td>101.176898</td>\n",
       "    </tr>\n",
       "    <tr>\n",
       "      <th>2022-08-30 04:00:00+00:00</th>\n",
       "      <td>403.85</td>\n",
       "      <td>404.100</td>\n",
       "      <td>396.0000</td>\n",
       "      <td>398.21</td>\n",
       "      <td>85326406</td>\n",
       "      <td>607506</td>\n",
       "      <td>399.084888</td>\n",
       "      <td>101.26</td>\n",
       "      <td>101.445</td>\n",
       "      <td>100.930</td>\n",
       "      <td>101.25</td>\n",
       "      <td>6568895</td>\n",
       "      <td>21158</td>\n",
       "      <td>101.186970</td>\n",
       "    </tr>\n",
       "    <tr>\n",
       "      <th>2022-08-31 04:00:00+00:00</th>\n",
       "      <td>399.92</td>\n",
       "      <td>401.240</td>\n",
       "      <td>395.0400</td>\n",
       "      <td>395.18</td>\n",
       "      <td>75597377</td>\n",
       "      <td>500607</td>\n",
       "      <td>397.214138</td>\n",
       "      <td>101.04</td>\n",
       "      <td>101.230</td>\n",
       "      <td>100.641</td>\n",
       "      <td>100.71</td>\n",
       "      <td>6111923</td>\n",
       "      <td>21955</td>\n",
       "      <td>100.973211</td>\n",
       "    </tr>\n",
       "    <tr>\n",
       "      <th>2022-09-01 04:00:00+00:00</th>\n",
       "      <td>392.88</td>\n",
       "      <td>396.780</td>\n",
       "      <td>390.0400</td>\n",
       "      <td>396.42</td>\n",
       "      <td>78315802</td>\n",
       "      <td>594723</td>\n",
       "      <td>393.055687</td>\n",
       "      <td>100.07</td>\n",
       "      <td>100.145</td>\n",
       "      <td>99.660</td>\n",
       "      <td>100.07</td>\n",
       "      <td>8960595</td>\n",
       "      <td>32259</td>\n",
       "      <td>99.954674</td>\n",
       "    </tr>\n",
       "    <tr>\n",
       "      <th>2022-09-02 04:00:00+00:00</th>\n",
       "      <td>400.30</td>\n",
       "      <td>401.555</td>\n",
       "      <td>390.3300</td>\n",
       "      <td>392.24</td>\n",
       "      <td>98944421</td>\n",
       "      <td>637607</td>\n",
       "      <td>395.381705</td>\n",
       "      <td>100.37</td>\n",
       "      <td>100.670</td>\n",
       "      <td>100.130</td>\n",
       "      <td>100.36</td>\n",
       "      <td>5963968</td>\n",
       "      <td>18228</td>\n",
       "      <td>100.362232</td>\n",
       "    </tr>\n",
       "  </tbody>\n",
       "</table>\n",
       "</div>"
      ],
      "text/plain": [
       "                              SPY                                       \\\n",
       "                             open     high       low   close    volume   \n",
       "timestamp                                                                \n",
       "2022-08-29 04:00:00+00:00  402.23  405.840  401.1999  402.63  65225959   \n",
       "2022-08-30 04:00:00+00:00  403.85  404.100  396.0000  398.21  85326406   \n",
       "2022-08-31 04:00:00+00:00  399.92  401.240  395.0400  395.18  75597377   \n",
       "2022-09-01 04:00:00+00:00  392.88  396.780  390.0400  396.42  78315802   \n",
       "2022-09-02 04:00:00+00:00  400.30  401.555  390.3300  392.24  98944421   \n",
       "\n",
       "                                                      AGG                    \\\n",
       "                          trade_count        vwap    open     high      low   \n",
       "timestamp                                                                     \n",
       "2022-08-29 04:00:00+00:00      489086  403.552893  101.27  101.280  101.055   \n",
       "2022-08-30 04:00:00+00:00      607506  399.084888  101.26  101.445  100.930   \n",
       "2022-08-31 04:00:00+00:00      500607  397.214138  101.04  101.230  100.641   \n",
       "2022-09-01 04:00:00+00:00      594723  393.055687  100.07  100.145   99.660   \n",
       "2022-09-02 04:00:00+00:00      637607  395.381705  100.37  100.670  100.130   \n",
       "\n",
       "                                                                    \n",
       "                            close   volume trade_count        vwap  \n",
       "timestamp                                                           \n",
       "2022-08-29 04:00:00+00:00  101.12  7508760       15383  101.176898  \n",
       "2022-08-30 04:00:00+00:00  101.25  6568895       21158  101.186970  \n",
       "2022-08-31 04:00:00+00:00  100.71  6111923       21955  100.973211  \n",
       "2022-09-01 04:00:00+00:00  100.07  8960595       32259   99.954674  \n",
       "2022-09-02 04:00:00+00:00  100.36  5963968       18228  100.362232  "
      ]
     },
     "execution_count": 47,
     "metadata": {},
     "output_type": "execute_result"
    }
   ],
   "source": [
    "prices_df.tail()"
   ]
  },
  {
   "cell_type": "markdown",
   "metadata": {},
   "source": [
    "#### Step 2: Run a Monte Carlo simulation of 500 samples and 30 years for the 60/40 portfolio, and then plot the results."
   ]
  },
  {
   "cell_type": "code",
   "execution_count": 50,
   "metadata": {},
   "outputs": [
    {
     "data": {
      "text/html": [
       "<div>\n",
       "<style scoped>\n",
       "    .dataframe tbody tr th:only-of-type {\n",
       "        vertical-align: middle;\n",
       "    }\n",
       "\n",
       "    .dataframe tbody tr th {\n",
       "        vertical-align: top;\n",
       "    }\n",
       "\n",
       "    .dataframe thead tr th {\n",
       "        text-align: left;\n",
       "    }\n",
       "\n",
       "    .dataframe thead tr:last-of-type th {\n",
       "        text-align: right;\n",
       "    }\n",
       "</style>\n",
       "<table border=\"1\" class=\"dataframe\">\n",
       "  <thead>\n",
       "    <tr>\n",
       "      <th></th>\n",
       "      <th colspan=\"8\" halign=\"left\">SPY</th>\n",
       "      <th colspan=\"8\" halign=\"left\">AGG</th>\n",
       "    </tr>\n",
       "    <tr>\n",
       "      <th></th>\n",
       "      <th>open</th>\n",
       "      <th>high</th>\n",
       "      <th>low</th>\n",
       "      <th>close</th>\n",
       "      <th>volume</th>\n",
       "      <th>trade_count</th>\n",
       "      <th>vwap</th>\n",
       "      <th>daily_return</th>\n",
       "      <th>open</th>\n",
       "      <th>high</th>\n",
       "      <th>low</th>\n",
       "      <th>close</th>\n",
       "      <th>volume</th>\n",
       "      <th>trade_count</th>\n",
       "      <th>vwap</th>\n",
       "      <th>daily_return</th>\n",
       "    </tr>\n",
       "    <tr>\n",
       "      <th>timestamp</th>\n",
       "      <th></th>\n",
       "      <th></th>\n",
       "      <th></th>\n",
       "      <th></th>\n",
       "      <th></th>\n",
       "      <th></th>\n",
       "      <th></th>\n",
       "      <th></th>\n",
       "      <th></th>\n",
       "      <th></th>\n",
       "      <th></th>\n",
       "      <th></th>\n",
       "      <th></th>\n",
       "      <th></th>\n",
       "      <th></th>\n",
       "      <th></th>\n",
       "    </tr>\n",
       "  </thead>\n",
       "  <tbody>\n",
       "    <tr>\n",
       "      <th>2019-09-03 04:00:00+00:00</th>\n",
       "      <td>290.56</td>\n",
       "      <td>291.580</td>\n",
       "      <td>289.270</td>\n",
       "      <td>290.74</td>\n",
       "      <td>69233875</td>\n",
       "      <td>362212</td>\n",
       "      <td>290.492676</td>\n",
       "      <td>NaN</td>\n",
       "      <td>113.84</td>\n",
       "      <td>114.1200</td>\n",
       "      <td>113.690</td>\n",
       "      <td>113.84</td>\n",
       "      <td>6197557</td>\n",
       "      <td>24789</td>\n",
       "      <td>113.939811</td>\n",
       "      <td>NaN</td>\n",
       "    </tr>\n",
       "    <tr>\n",
       "      <th>2019-09-04 04:00:00+00:00</th>\n",
       "      <td>293.15</td>\n",
       "      <td>294.055</td>\n",
       "      <td>292.310</td>\n",
       "      <td>294.04</td>\n",
       "      <td>47160461</td>\n",
       "      <td>236850</td>\n",
       "      <td>293.322384</td>\n",
       "      <td>0.011350</td>\n",
       "      <td>113.82</td>\n",
       "      <td>114.0801</td>\n",
       "      <td>113.820</td>\n",
       "      <td>114.04</td>\n",
       "      <td>3814413</td>\n",
       "      <td>15256</td>\n",
       "      <td>114.008878</td>\n",
       "      <td>0.001757</td>\n",
       "    </tr>\n",
       "    <tr>\n",
       "      <th>2019-09-05 04:00:00+00:00</th>\n",
       "      <td>296.78</td>\n",
       "      <td>298.830</td>\n",
       "      <td>294.001</td>\n",
       "      <td>297.82</td>\n",
       "      <td>83356779</td>\n",
       "      <td>377089</td>\n",
       "      <td>297.528062</td>\n",
       "      <td>0.012855</td>\n",
       "      <td>113.61</td>\n",
       "      <td>113.6700</td>\n",
       "      <td>113.300</td>\n",
       "      <td>113.55</td>\n",
       "      <td>5336501</td>\n",
       "      <td>19147</td>\n",
       "      <td>113.455162</td>\n",
       "      <td>-0.004297</td>\n",
       "    </tr>\n",
       "    <tr>\n",
       "      <th>2019-09-06 04:00:00+00:00</th>\n",
       "      <td>298.21</td>\n",
       "      <td>298.760</td>\n",
       "      <td>297.420</td>\n",
       "      <td>298.05</td>\n",
       "      <td>49676444</td>\n",
       "      <td>255431</td>\n",
       "      <td>298.223331</td>\n",
       "      <td>0.000772</td>\n",
       "      <td>113.66</td>\n",
       "      <td>113.7199</td>\n",
       "      <td>113.555</td>\n",
       "      <td>113.67</td>\n",
       "      <td>3675151</td>\n",
       "      <td>12845</td>\n",
       "      <td>113.658735</td>\n",
       "      <td>0.001057</td>\n",
       "    </tr>\n",
       "    <tr>\n",
       "      <th>2019-09-09 04:00:00+00:00</th>\n",
       "      <td>299.15</td>\n",
       "      <td>299.240</td>\n",
       "      <td>297.160</td>\n",
       "      <td>298.20</td>\n",
       "      <td>51260290</td>\n",
       "      <td>241462</td>\n",
       "      <td>298.158399</td>\n",
       "      <td>0.000503</td>\n",
       "      <td>113.39</td>\n",
       "      <td>113.3900</td>\n",
       "      <td>113.180</td>\n",
       "      <td>113.19</td>\n",
       "      <td>2747454</td>\n",
       "      <td>10594</td>\n",
       "      <td>113.266602</td>\n",
       "      <td>-0.004223</td>\n",
       "    </tr>\n",
       "  </tbody>\n",
       "</table>\n",
       "</div>"
      ],
      "text/plain": [
       "                              SPY                                      \\\n",
       "                             open     high      low   close    volume   \n",
       "timestamp                                                               \n",
       "2019-09-03 04:00:00+00:00  290.56  291.580  289.270  290.74  69233875   \n",
       "2019-09-04 04:00:00+00:00  293.15  294.055  292.310  294.04  47160461   \n",
       "2019-09-05 04:00:00+00:00  296.78  298.830  294.001  297.82  83356779   \n",
       "2019-09-06 04:00:00+00:00  298.21  298.760  297.420  298.05  49676444   \n",
       "2019-09-09 04:00:00+00:00  299.15  299.240  297.160  298.20  51260290   \n",
       "\n",
       "                                                                   AGG  \\\n",
       "                          trade_count        vwap daily_return    open   \n",
       "timestamp                                                                \n",
       "2019-09-03 04:00:00+00:00      362212  290.492676          NaN  113.84   \n",
       "2019-09-04 04:00:00+00:00      236850  293.322384     0.011350  113.82   \n",
       "2019-09-05 04:00:00+00:00      377089  297.528062     0.012855  113.61   \n",
       "2019-09-06 04:00:00+00:00      255431  298.223331     0.000772  113.66   \n",
       "2019-09-09 04:00:00+00:00      241462  298.158399     0.000503  113.39   \n",
       "\n",
       "                                                                           \\\n",
       "                               high      low   close   volume trade_count   \n",
       "timestamp                                                                   \n",
       "2019-09-03 04:00:00+00:00  114.1200  113.690  113.84  6197557       24789   \n",
       "2019-09-04 04:00:00+00:00  114.0801  113.820  114.04  3814413       15256   \n",
       "2019-09-05 04:00:00+00:00  113.6700  113.300  113.55  5336501       19147   \n",
       "2019-09-06 04:00:00+00:00  113.7199  113.555  113.67  3675151       12845   \n",
       "2019-09-09 04:00:00+00:00  113.3900  113.180  113.19  2747454       10594   \n",
       "\n",
       "                                                    \n",
       "                                 vwap daily_return  \n",
       "timestamp                                           \n",
       "2019-09-03 04:00:00+00:00  113.939811          NaN  \n",
       "2019-09-04 04:00:00+00:00  114.008878     0.001757  \n",
       "2019-09-05 04:00:00+00:00  113.455162    -0.004297  \n",
       "2019-09-06 04:00:00+00:00  113.658735     0.001057  \n",
       "2019-09-09 04:00:00+00:00  113.266602    -0.004223  "
      ]
     },
     "execution_count": 50,
     "metadata": {},
     "output_type": "execute_result"
    }
   ],
   "source": [
    "# Configure the Monte Carlo simulation to forecast 30 years cumulative returns\n",
    "# The weights should be split 40% to AGG and 60% to SPY.\n",
    "# Run 500 samples.\n",
    "MCS_30year = MCSimulation(\n",
    "    portfolio_data = prices_df,\n",
    "    weights = [.6,.4],\n",
    "    num_simulation = 500,\n",
    "    num_trading_days = 252*30\n",
    ")\n",
    "\n",
    "# Review the simulation input data\n",
    "MCS_30year.portfolio_data.head()\n"
   ]
  },
  {
   "cell_type": "code",
   "execution_count": 51,
   "metadata": {},
   "outputs": [
    {
     "name": "stdout",
     "output_type": "stream",
     "text": [
      "Running Monte Carlo simulation number 0.\n",
      "Running Monte Carlo simulation number 10.\n",
      "Running Monte Carlo simulation number 20.\n",
      "Running Monte Carlo simulation number 30.\n",
      "Running Monte Carlo simulation number 40.\n",
      "Running Monte Carlo simulation number 50.\n",
      "Running Monte Carlo simulation number 60.\n",
      "Running Monte Carlo simulation number 70.\n",
      "Running Monte Carlo simulation number 80.\n",
      "Running Monte Carlo simulation number 90.\n",
      "Running Monte Carlo simulation number 100.\n"
     ]
    },
    {
     "name": "stderr",
     "output_type": "stream",
     "text": [
      "C:\\Users\\ychuk\\OneDrive\\Desktop\\FinTech\\Challenge_5\\Starter_Code\\Starter_Code\\MCForecastTools.py:117: PerformanceWarning: DataFrame is highly fragmented.  This is usually the result of calling `frame.insert` many times, which has poor performance.  Consider joining all columns at once using pd.concat(axis=1) instead.  To get a de-fragmented frame, use `newframe = frame.copy()`\n",
      "  portfolio_cumulative_returns[n] = (1 + sim_df.fillna(0)).cumprod()\n"
     ]
    },
    {
     "name": "stdout",
     "output_type": "stream",
     "text": [
      "Running Monte Carlo simulation number 110.\n",
      "Running Monte Carlo simulation number 120.\n",
      "Running Monte Carlo simulation number 130.\n",
      "Running Monte Carlo simulation number 140.\n",
      "Running Monte Carlo simulation number 150.\n",
      "Running Monte Carlo simulation number 160.\n",
      "Running Monte Carlo simulation number 170.\n",
      "Running Monte Carlo simulation number 180.\n",
      "Running Monte Carlo simulation number 190.\n",
      "Running Monte Carlo simulation number 200.\n",
      "Running Monte Carlo simulation number 210.\n",
      "Running Monte Carlo simulation number 220.\n",
      "Running Monte Carlo simulation number 230.\n",
      "Running Monte Carlo simulation number 240.\n",
      "Running Monte Carlo simulation number 250.\n",
      "Running Monte Carlo simulation number 260.\n",
      "Running Monte Carlo simulation number 270.\n",
      "Running Monte Carlo simulation number 280.\n",
      "Running Monte Carlo simulation number 290.\n",
      "Running Monte Carlo simulation number 300.\n",
      "Running Monte Carlo simulation number 310.\n",
      "Running Monte Carlo simulation number 320.\n",
      "Running Monte Carlo simulation number 330.\n",
      "Running Monte Carlo simulation number 340.\n",
      "Running Monte Carlo simulation number 350.\n",
      "Running Monte Carlo simulation number 360.\n",
      "Running Monte Carlo simulation number 370.\n",
      "Running Monte Carlo simulation number 380.\n",
      "Running Monte Carlo simulation number 390.\n",
      "Running Monte Carlo simulation number 400.\n",
      "Running Monte Carlo simulation number 410.\n",
      "Running Monte Carlo simulation number 420.\n",
      "Running Monte Carlo simulation number 430.\n",
      "Running Monte Carlo simulation number 440.\n",
      "Running Monte Carlo simulation number 450.\n",
      "Running Monte Carlo simulation number 460.\n",
      "Running Monte Carlo simulation number 470.\n",
      "Running Monte Carlo simulation number 480.\n",
      "Running Monte Carlo simulation number 490.\n"
     ]
    },
    {
     "data": {
      "text/html": [
       "<div>\n",
       "<style scoped>\n",
       "    .dataframe tbody tr th:only-of-type {\n",
       "        vertical-align: middle;\n",
       "    }\n",
       "\n",
       "    .dataframe tbody tr th {\n",
       "        vertical-align: top;\n",
       "    }\n",
       "\n",
       "    .dataframe thead th {\n",
       "        text-align: right;\n",
       "    }\n",
       "</style>\n",
       "<table border=\"1\" class=\"dataframe\">\n",
       "  <thead>\n",
       "    <tr style=\"text-align: right;\">\n",
       "      <th></th>\n",
       "      <th>0</th>\n",
       "      <th>1</th>\n",
       "      <th>2</th>\n",
       "      <th>3</th>\n",
       "      <th>4</th>\n",
       "      <th>5</th>\n",
       "      <th>6</th>\n",
       "      <th>7</th>\n",
       "      <th>8</th>\n",
       "      <th>9</th>\n",
       "      <th>...</th>\n",
       "      <th>490</th>\n",
       "      <th>491</th>\n",
       "      <th>492</th>\n",
       "      <th>493</th>\n",
       "      <th>494</th>\n",
       "      <th>495</th>\n",
       "      <th>496</th>\n",
       "      <th>497</th>\n",
       "      <th>498</th>\n",
       "      <th>499</th>\n",
       "    </tr>\n",
       "  </thead>\n",
       "  <tbody>\n",
       "    <tr>\n",
       "      <th>0</th>\n",
       "      <td>1.000000</td>\n",
       "      <td>1.000000</td>\n",
       "      <td>1.000000</td>\n",
       "      <td>1.000000</td>\n",
       "      <td>1.000000</td>\n",
       "      <td>1.000000</td>\n",
       "      <td>1.000000</td>\n",
       "      <td>1.000000</td>\n",
       "      <td>1.000000</td>\n",
       "      <td>1.000000</td>\n",
       "      <td>...</td>\n",
       "      <td>1.000000</td>\n",
       "      <td>1.000000</td>\n",
       "      <td>1.000000</td>\n",
       "      <td>1.000000</td>\n",
       "      <td>1.000000</td>\n",
       "      <td>1.000000</td>\n",
       "      <td>1.000000</td>\n",
       "      <td>1.000000</td>\n",
       "      <td>1.000000</td>\n",
       "      <td>1.000000</td>\n",
       "    </tr>\n",
       "    <tr>\n",
       "      <th>1</th>\n",
       "      <td>0.989554</td>\n",
       "      <td>0.984091</td>\n",
       "      <td>0.983884</td>\n",
       "      <td>0.997945</td>\n",
       "      <td>1.019175</td>\n",
       "      <td>0.983132</td>\n",
       "      <td>1.001161</td>\n",
       "      <td>1.011359</td>\n",
       "      <td>1.002649</td>\n",
       "      <td>1.005214</td>\n",
       "      <td>...</td>\n",
       "      <td>1.005323</td>\n",
       "      <td>1.004282</td>\n",
       "      <td>0.991557</td>\n",
       "      <td>1.015700</td>\n",
       "      <td>1.014691</td>\n",
       "      <td>1.004767</td>\n",
       "      <td>1.008382</td>\n",
       "      <td>1.006558</td>\n",
       "      <td>1.005597</td>\n",
       "      <td>1.000809</td>\n",
       "    </tr>\n",
       "    <tr>\n",
       "      <th>2</th>\n",
       "      <td>0.987254</td>\n",
       "      <td>0.991994</td>\n",
       "      <td>0.999171</td>\n",
       "      <td>1.013214</td>\n",
       "      <td>1.025216</td>\n",
       "      <td>0.965808</td>\n",
       "      <td>0.997044</td>\n",
       "      <td>1.002525</td>\n",
       "      <td>1.012573</td>\n",
       "      <td>0.999482</td>\n",
       "      <td>...</td>\n",
       "      <td>0.994823</td>\n",
       "      <td>1.013506</td>\n",
       "      <td>0.997613</td>\n",
       "      <td>1.008680</td>\n",
       "      <td>1.021002</td>\n",
       "      <td>1.005926</td>\n",
       "      <td>1.003044</td>\n",
       "      <td>1.006554</td>\n",
       "      <td>0.993942</td>\n",
       "      <td>0.995128</td>\n",
       "    </tr>\n",
       "    <tr>\n",
       "      <th>3</th>\n",
       "      <td>0.989043</td>\n",
       "      <td>0.997810</td>\n",
       "      <td>1.001966</td>\n",
       "      <td>1.018147</td>\n",
       "      <td>1.024877</td>\n",
       "      <td>0.974310</td>\n",
       "      <td>1.000298</td>\n",
       "      <td>1.009739</td>\n",
       "      <td>1.015416</td>\n",
       "      <td>0.990726</td>\n",
       "      <td>...</td>\n",
       "      <td>1.003763</td>\n",
       "      <td>1.019707</td>\n",
       "      <td>0.999081</td>\n",
       "      <td>1.005458</td>\n",
       "      <td>1.024872</td>\n",
       "      <td>1.014648</td>\n",
       "      <td>1.021226</td>\n",
       "      <td>1.004716</td>\n",
       "      <td>1.004292</td>\n",
       "      <td>0.989651</td>\n",
       "    </tr>\n",
       "    <tr>\n",
       "      <th>4</th>\n",
       "      <td>0.996595</td>\n",
       "      <td>1.011827</td>\n",
       "      <td>1.006964</td>\n",
       "      <td>1.010122</td>\n",
       "      <td>1.040306</td>\n",
       "      <td>0.973050</td>\n",
       "      <td>1.008415</td>\n",
       "      <td>1.001577</td>\n",
       "      <td>0.994662</td>\n",
       "      <td>0.992073</td>\n",
       "      <td>...</td>\n",
       "      <td>0.999334</td>\n",
       "      <td>1.018238</td>\n",
       "      <td>0.985481</td>\n",
       "      <td>1.009160</td>\n",
       "      <td>1.032695</td>\n",
       "      <td>1.020316</td>\n",
       "      <td>1.020005</td>\n",
       "      <td>1.011001</td>\n",
       "      <td>1.003894</td>\n",
       "      <td>0.997283</td>\n",
       "    </tr>\n",
       "    <tr>\n",
       "      <th>...</th>\n",
       "      <td>...</td>\n",
       "      <td>...</td>\n",
       "      <td>...</td>\n",
       "      <td>...</td>\n",
       "      <td>...</td>\n",
       "      <td>...</td>\n",
       "      <td>...</td>\n",
       "      <td>...</td>\n",
       "      <td>...</td>\n",
       "      <td>...</td>\n",
       "      <td>...</td>\n",
       "      <td>...</td>\n",
       "      <td>...</td>\n",
       "      <td>...</td>\n",
       "      <td>...</td>\n",
       "      <td>...</td>\n",
       "      <td>...</td>\n",
       "      <td>...</td>\n",
       "      <td>...</td>\n",
       "      <td>...</td>\n",
       "      <td>...</td>\n",
       "    </tr>\n",
       "    <tr>\n",
       "      <th>7556</th>\n",
       "      <td>12.980792</td>\n",
       "      <td>9.171103</td>\n",
       "      <td>5.454317</td>\n",
       "      <td>1.460736</td>\n",
       "      <td>2.719901</td>\n",
       "      <td>11.740514</td>\n",
       "      <td>11.723872</td>\n",
       "      <td>6.362803</td>\n",
       "      <td>10.198981</td>\n",
       "      <td>36.269024</td>\n",
       "      <td>...</td>\n",
       "      <td>5.682324</td>\n",
       "      <td>13.766721</td>\n",
       "      <td>12.988751</td>\n",
       "      <td>12.681802</td>\n",
       "      <td>2.967466</td>\n",
       "      <td>4.018555</td>\n",
       "      <td>12.726781</td>\n",
       "      <td>2.783702</td>\n",
       "      <td>6.044679</td>\n",
       "      <td>0.775431</td>\n",
       "    </tr>\n",
       "    <tr>\n",
       "      <th>7557</th>\n",
       "      <td>12.894841</td>\n",
       "      <td>9.148141</td>\n",
       "      <td>5.341761</td>\n",
       "      <td>1.464581</td>\n",
       "      <td>2.730604</td>\n",
       "      <td>11.784800</td>\n",
       "      <td>11.832359</td>\n",
       "      <td>6.345304</td>\n",
       "      <td>10.355621</td>\n",
       "      <td>36.491641</td>\n",
       "      <td>...</td>\n",
       "      <td>5.649568</td>\n",
       "      <td>13.744585</td>\n",
       "      <td>12.891857</td>\n",
       "      <td>12.578409</td>\n",
       "      <td>2.955987</td>\n",
       "      <td>4.000306</td>\n",
       "      <td>12.737761</td>\n",
       "      <td>2.776607</td>\n",
       "      <td>6.085961</td>\n",
       "      <td>0.776173</td>\n",
       "    </tr>\n",
       "    <tr>\n",
       "      <th>7558</th>\n",
       "      <td>12.964108</td>\n",
       "      <td>9.173948</td>\n",
       "      <td>5.405752</td>\n",
       "      <td>1.453536</td>\n",
       "      <td>2.728322</td>\n",
       "      <td>11.920194</td>\n",
       "      <td>11.979897</td>\n",
       "      <td>6.309165</td>\n",
       "      <td>10.384480</td>\n",
       "      <td>35.845940</td>\n",
       "      <td>...</td>\n",
       "      <td>5.708325</td>\n",
       "      <td>13.821677</td>\n",
       "      <td>12.799627</td>\n",
       "      <td>12.419951</td>\n",
       "      <td>2.978615</td>\n",
       "      <td>4.012647</td>\n",
       "      <td>12.738189</td>\n",
       "      <td>2.792016</td>\n",
       "      <td>6.130422</td>\n",
       "      <td>0.773621</td>\n",
       "    </tr>\n",
       "    <tr>\n",
       "      <th>7559</th>\n",
       "      <td>12.978530</td>\n",
       "      <td>9.117039</td>\n",
       "      <td>5.425839</td>\n",
       "      <td>1.463106</td>\n",
       "      <td>2.704863</td>\n",
       "      <td>12.034710</td>\n",
       "      <td>12.078512</td>\n",
       "      <td>6.331153</td>\n",
       "      <td>10.515586</td>\n",
       "      <td>36.114794</td>\n",
       "      <td>...</td>\n",
       "      <td>5.687313</td>\n",
       "      <td>13.906767</td>\n",
       "      <td>12.829015</td>\n",
       "      <td>12.474771</td>\n",
       "      <td>2.959010</td>\n",
       "      <td>4.023010</td>\n",
       "      <td>12.649323</td>\n",
       "      <td>2.790995</td>\n",
       "      <td>6.238094</td>\n",
       "      <td>0.770865</td>\n",
       "    </tr>\n",
       "    <tr>\n",
       "      <th>7560</th>\n",
       "      <td>12.985905</td>\n",
       "      <td>9.058861</td>\n",
       "      <td>5.365457</td>\n",
       "      <td>1.468695</td>\n",
       "      <td>2.718382</td>\n",
       "      <td>12.273326</td>\n",
       "      <td>12.040235</td>\n",
       "      <td>6.234011</td>\n",
       "      <td>10.568228</td>\n",
       "      <td>36.104889</td>\n",
       "      <td>...</td>\n",
       "      <td>5.745426</td>\n",
       "      <td>13.900034</td>\n",
       "      <td>12.950784</td>\n",
       "      <td>12.632555</td>\n",
       "      <td>2.948660</td>\n",
       "      <td>4.010697</td>\n",
       "      <td>12.707227</td>\n",
       "      <td>2.785612</td>\n",
       "      <td>6.256683</td>\n",
       "      <td>0.771564</td>\n",
       "    </tr>\n",
       "  </tbody>\n",
       "</table>\n",
       "<p>7561 rows × 500 columns</p>\n",
       "</div>"
      ],
      "text/plain": [
       "            0         1         2         3         4          5          6    \\\n",
       "0      1.000000  1.000000  1.000000  1.000000  1.000000   1.000000   1.000000   \n",
       "1      0.989554  0.984091  0.983884  0.997945  1.019175   0.983132   1.001161   \n",
       "2      0.987254  0.991994  0.999171  1.013214  1.025216   0.965808   0.997044   \n",
       "3      0.989043  0.997810  1.001966  1.018147  1.024877   0.974310   1.000298   \n",
       "4      0.996595  1.011827  1.006964  1.010122  1.040306   0.973050   1.008415   \n",
       "...         ...       ...       ...       ...       ...        ...        ...   \n",
       "7556  12.980792  9.171103  5.454317  1.460736  2.719901  11.740514  11.723872   \n",
       "7557  12.894841  9.148141  5.341761  1.464581  2.730604  11.784800  11.832359   \n",
       "7558  12.964108  9.173948  5.405752  1.453536  2.728322  11.920194  11.979897   \n",
       "7559  12.978530  9.117039  5.425839  1.463106  2.704863  12.034710  12.078512   \n",
       "7560  12.985905  9.058861  5.365457  1.468695  2.718382  12.273326  12.040235   \n",
       "\n",
       "           7          8          9    ...       490        491        492  \\\n",
       "0     1.000000   1.000000   1.000000  ...  1.000000   1.000000   1.000000   \n",
       "1     1.011359   1.002649   1.005214  ...  1.005323   1.004282   0.991557   \n",
       "2     1.002525   1.012573   0.999482  ...  0.994823   1.013506   0.997613   \n",
       "3     1.009739   1.015416   0.990726  ...  1.003763   1.019707   0.999081   \n",
       "4     1.001577   0.994662   0.992073  ...  0.999334   1.018238   0.985481   \n",
       "...        ...        ...        ...  ...       ...        ...        ...   \n",
       "7556  6.362803  10.198981  36.269024  ...  5.682324  13.766721  12.988751   \n",
       "7557  6.345304  10.355621  36.491641  ...  5.649568  13.744585  12.891857   \n",
       "7558  6.309165  10.384480  35.845940  ...  5.708325  13.821677  12.799627   \n",
       "7559  6.331153  10.515586  36.114794  ...  5.687313  13.906767  12.829015   \n",
       "7560  6.234011  10.568228  36.104889  ...  5.745426  13.900034  12.950784   \n",
       "\n",
       "            493       494       495        496       497       498       499  \n",
       "0      1.000000  1.000000  1.000000   1.000000  1.000000  1.000000  1.000000  \n",
       "1      1.015700  1.014691  1.004767   1.008382  1.006558  1.005597  1.000809  \n",
       "2      1.008680  1.021002  1.005926   1.003044  1.006554  0.993942  0.995128  \n",
       "3      1.005458  1.024872  1.014648   1.021226  1.004716  1.004292  0.989651  \n",
       "4      1.009160  1.032695  1.020316   1.020005  1.011001  1.003894  0.997283  \n",
       "...         ...       ...       ...        ...       ...       ...       ...  \n",
       "7556  12.681802  2.967466  4.018555  12.726781  2.783702  6.044679  0.775431  \n",
       "7557  12.578409  2.955987  4.000306  12.737761  2.776607  6.085961  0.776173  \n",
       "7558  12.419951  2.978615  4.012647  12.738189  2.792016  6.130422  0.773621  \n",
       "7559  12.474771  2.959010  4.023010  12.649323  2.790995  6.238094  0.770865  \n",
       "7560  12.632555  2.948660  4.010697  12.707227  2.785612  6.256683  0.771564  \n",
       "\n",
       "[7561 rows x 500 columns]"
      ]
     },
     "execution_count": 51,
     "metadata": {},
     "output_type": "execute_result"
    }
   ],
   "source": [
    "# Run the Monte Carlo simulation to forecast 30 years cumulative returns\n",
    "MCS_30year.calc_cumulative_return()\n"
   ]
  },
  {
   "cell_type": "code",
   "execution_count": 52,
   "metadata": {},
   "outputs": [
    {
     "data": {
      "text/plain": [
       "<AxesSubplot:title={'center':'500 Simulations of Cumulative Portfolio Return Trajectories Over the Next 7560 Trading Days.'}>"
      ]
     },
     "execution_count": 52,
     "metadata": {},
     "output_type": "execute_result"
    },
    {
     "data": {
      "image/png": "[encoded data removed]",
      "text/plain": [
       "<Figure size 432x288 with 1 Axes>"
      ]
     },
     "metadata": {
      "needs_background": "light"
     },
     "output_type": "display_data"
    }
   ],
   "source": [
    "# Visualize the 30-year Monte Carlo simulation by creating an\n",
    "# overlay line plot\n",
    "MCS_30year.plot_simulation()\n"
   ]
  },
  {
   "cell_type": "markdown",
   "metadata": {},
   "source": [
    "#### Step 3: Plot the probability distribution of the Monte Carlo simulation."
   ]
  },
  {
   "cell_type": "code",
   "execution_count": 53,
   "metadata": {},
   "outputs": [
    {
     "data": {
      "text/plain": [
       "<AxesSubplot:title={'center':'Distribution of Final Cumuluative Returns Across All 500 Simulations'}, ylabel='Frequency'>"
      ]
     },
     "execution_count": 53,
     "metadata": {},
     "output_type": "execute_result"
    },
    {
     "data": {
      "image/png": "[encoded data removed]",
      "text/plain": [
       "<Figure size 432x288 with 1 Axes>"
      ]
     },
     "metadata": {
      "needs_background": "light"
     },
     "output_type": "display_data"
    }
   ],
   "source": [
    "# Visualize the probability distribution of the 30-year Monte Carlo simulation \n",
    "# by plotting a histogram\n",
    "MCS_30year.plot_distribution()\n"
   ]
  },
  {
   "cell_type": "markdown",
   "metadata": {},
   "source": [
    "#### Step 4: Generate the summary statistics for the Monte Carlo simulation."
   ]
  },
  {
   "cell_type": "code",
   "execution_count": 55,
   "metadata": {},
   "outputs": [
    {
     "name": "stdout",
     "output_type": "stream",
     "text": [
      "count           500.000000\n",
      "mean              6.532918\n",
      "std               6.826232\n",
      "min               0.329732\n",
      "25%               2.718886\n",
      "50%               4.690518\n",
      "75%               7.803711\n",
      "max              58.549063\n",
      "95% CI Lower      1.089857\n",
      "95% CI Upper     24.496753\n",
      "Name: 7560, dtype: float64\n"
     ]
    }
   ],
   "source": [
    "# Generate summary statistics from the 30-year Monte Carlo simulation results\n",
    "# Save the results as a variable\n",
    "MCS_summary_stats = MCS_30year.summarize_cumulative_return()\n",
    "\n",
    "# Review the 30-year Monte Carlo summary statistics\n",
    "print(MCS_summary_stats)"
   ]
  },
  {
   "cell_type": "markdown",
   "metadata": {},
   "source": [
    "### Analyze the Retirement Portfolio Forecasts\n",
    "\n",
    "Using the current value of only the stock and bond portion of the member's portfolio and the summary statistics that you generated from the Monte Carlo simulation, answer the following question in your Jupyter notebook:\n",
    "\n",
    "-  What are the lower and upper bounds for the expected value of the portfolio with a 95% confidence interval?\n"
   ]
  },
  {
   "cell_type": "code",
   "execution_count": 69,
   "metadata": {},
   "outputs": [
    {
     "name": "stdout",
     "output_type": "stream",
     "text": [
      "63620.200000000004\n"
     ]
    }
   ],
   "source": [
    "# Print the current balance of the stock and bond portion of the members portfolio\n",
    "print(total_stocks_bonds)"
   ]
  },
  {
   "cell_type": "code",
   "execution_count": 75,
   "metadata": {},
   "outputs": [
    {
     "name": "stdout",
     "output_type": "stream",
     "text": [
      "There is a 95% chance that an initial investment of $ 63620.20 in the portfolio over the next 30 years will end in the range of $ 69336.92 and $ 1558488.34.\n"
     ]
    }
   ],
   "source": [
    "# Use the lower and upper `95%` confidence intervals to calculate the range of the possible outcomes for the current stock/bond portfolio\n",
    "ci_lower_thirty_cumulative_return = MCS_summary_stats[8] * total_stocks_bonds\n",
    "ci_upper_thirty_cumulative_return = MCS_summary_stats[9] * total_stocks_bonds\n",
    "\n",
    "# Print the result of your calculations\n",
    "print(f\"There is a 95% chance that an initial investment of ${total_stocks_bonds: .2f} in the portfolio\"\n",
    "    f\" over the next 30 years will end in the range of\"\n",
    "    f\" ${ci_lower_thirty_cumulative_return: .2f} and ${ci_upper_thirty_cumulative_return: .2f}.\")\n"
   ]
  },
  {
   "cell_type": "markdown",
   "metadata": {},
   "source": [
    "### Forecast Cumulative Returns in 10 Years\n",
    "\n",
    "The CTO of the credit union is impressed with your work on these planning tools but wonders if 30 years is a long time to wait until retirement. So, your next task is to adjust the retirement portfolio and run a new Monte Carlo simulation to find out if the changes will allow members to retire earlier.\n",
    "\n",
    "For this new Monte Carlo simulation, do the following: \n",
    "\n",
    "- Forecast the cumulative returns for 10 years from now. Because of the shortened investment horizon (30 years to 10 years), the portfolio needs to invest more heavily in the riskier asset&mdash;that is, stock&mdash;to help accumulate wealth for retirement. \n",
    "\n",
    "- Adjust the weights of the retirement portfolio so that the composition for the Monte Carlo simulation consists of 20% bonds and 80% stocks. \n",
    "\n",
    "- Run the simulation over 500 samples, and use the same data that the API call to Alpaca generated.\n",
    "\n",
    "- Based on the new Monte Carlo simulation, answer the following questions in your Jupyter notebook:\n",
    "\n",
    "    - Using the current value of only the stock and bond portion of the member's portfolio and the summary statistics that you generated from the new Monte Carlo simulation, what are the lower and upper bounds for the expected value of the portfolio (with the new weights) with a 95% confidence interval?\n",
    "\n",
    "    - Will weighting the portfolio more heavily toward stocks allow the credit union members to retire after only 10 years?\n"
   ]
  },
  {
   "cell_type": "code",
   "execution_count": 76,
   "metadata": {},
   "outputs": [
    {
     "data": {
      "text/html": [
       "<div>\n",
       "<style scoped>\n",
       "    .dataframe tbody tr th:only-of-type {\n",
       "        vertical-align: middle;\n",
       "    }\n",
       "\n",
       "    .dataframe tbody tr th {\n",
       "        vertical-align: top;\n",
       "    }\n",
       "\n",
       "    .dataframe thead tr th {\n",
       "        text-align: left;\n",
       "    }\n",
       "\n",
       "    .dataframe thead tr:last-of-type th {\n",
       "        text-align: right;\n",
       "    }\n",
       "</style>\n",
       "<table border=\"1\" class=\"dataframe\">\n",
       "  <thead>\n",
       "    <tr>\n",
       "      <th></th>\n",
       "      <th colspan=\"8\" halign=\"left\">SPY</th>\n",
       "      <th colspan=\"8\" halign=\"left\">AGG</th>\n",
       "    </tr>\n",
       "    <tr>\n",
       "      <th></th>\n",
       "      <th>open</th>\n",
       "      <th>high</th>\n",
       "      <th>low</th>\n",
       "      <th>close</th>\n",
       "      <th>volume</th>\n",
       "      <th>trade_count</th>\n",
       "      <th>vwap</th>\n",
       "      <th>daily_return</th>\n",
       "      <th>open</th>\n",
       "      <th>high</th>\n",
       "      <th>low</th>\n",
       "      <th>close</th>\n",
       "      <th>volume</th>\n",
       "      <th>trade_count</th>\n",
       "      <th>vwap</th>\n",
       "      <th>daily_return</th>\n",
       "    </tr>\n",
       "    <tr>\n",
       "      <th>timestamp</th>\n",
       "      <th></th>\n",
       "      <th></th>\n",
       "      <th></th>\n",
       "      <th></th>\n",
       "      <th></th>\n",
       "      <th></th>\n",
       "      <th></th>\n",
       "      <th></th>\n",
       "      <th></th>\n",
       "      <th></th>\n",
       "      <th></th>\n",
       "      <th></th>\n",
       "      <th></th>\n",
       "      <th></th>\n",
       "      <th></th>\n",
       "      <th></th>\n",
       "    </tr>\n",
       "  </thead>\n",
       "  <tbody>\n",
       "    <tr>\n",
       "      <th>2019-09-03 04:00:00+00:00</th>\n",
       "      <td>290.56</td>\n",
       "      <td>291.580</td>\n",
       "      <td>289.270</td>\n",
       "      <td>290.74</td>\n",
       "      <td>69233875</td>\n",
       "      <td>362212</td>\n",
       "      <td>290.492676</td>\n",
       "      <td>NaN</td>\n",
       "      <td>113.84</td>\n",
       "      <td>114.1200</td>\n",
       "      <td>113.690</td>\n",
       "      <td>113.84</td>\n",
       "      <td>6197557</td>\n",
       "      <td>24789</td>\n",
       "      <td>113.939811</td>\n",
       "      <td>NaN</td>\n",
       "    </tr>\n",
       "    <tr>\n",
       "      <th>2019-09-04 04:00:00+00:00</th>\n",
       "      <td>293.15</td>\n",
       "      <td>294.055</td>\n",
       "      <td>292.310</td>\n",
       "      <td>294.04</td>\n",
       "      <td>47160461</td>\n",
       "      <td>236850</td>\n",
       "      <td>293.322384</td>\n",
       "      <td>0.011350</td>\n",
       "      <td>113.82</td>\n",
       "      <td>114.0801</td>\n",
       "      <td>113.820</td>\n",
       "      <td>114.04</td>\n",
       "      <td>3814413</td>\n",
       "      <td>15256</td>\n",
       "      <td>114.008878</td>\n",
       "      <td>0.001757</td>\n",
       "    </tr>\n",
       "    <tr>\n",
       "      <th>2019-09-05 04:00:00+00:00</th>\n",
       "      <td>296.78</td>\n",
       "      <td>298.830</td>\n",
       "      <td>294.001</td>\n",
       "      <td>297.82</td>\n",
       "      <td>83356779</td>\n",
       "      <td>377089</td>\n",
       "      <td>297.528062</td>\n",
       "      <td>0.012855</td>\n",
       "      <td>113.61</td>\n",
       "      <td>113.6700</td>\n",
       "      <td>113.300</td>\n",
       "      <td>113.55</td>\n",
       "      <td>5336501</td>\n",
       "      <td>19147</td>\n",
       "      <td>113.455162</td>\n",
       "      <td>-0.004297</td>\n",
       "    </tr>\n",
       "    <tr>\n",
       "      <th>2019-09-06 04:00:00+00:00</th>\n",
       "      <td>298.21</td>\n",
       "      <td>298.760</td>\n",
       "      <td>297.420</td>\n",
       "      <td>298.05</td>\n",
       "      <td>49676444</td>\n",
       "      <td>255431</td>\n",
       "      <td>298.223331</td>\n",
       "      <td>0.000772</td>\n",
       "      <td>113.66</td>\n",
       "      <td>113.7199</td>\n",
       "      <td>113.555</td>\n",
       "      <td>113.67</td>\n",
       "      <td>3675151</td>\n",
       "      <td>12845</td>\n",
       "      <td>113.658735</td>\n",
       "      <td>0.001057</td>\n",
       "    </tr>\n",
       "    <tr>\n",
       "      <th>2019-09-09 04:00:00+00:00</th>\n",
       "      <td>299.15</td>\n",
       "      <td>299.240</td>\n",
       "      <td>297.160</td>\n",
       "      <td>298.20</td>\n",
       "      <td>51260290</td>\n",
       "      <td>241462</td>\n",
       "      <td>298.158399</td>\n",
       "      <td>0.000503</td>\n",
       "      <td>113.39</td>\n",
       "      <td>113.3900</td>\n",
       "      <td>113.180</td>\n",
       "      <td>113.19</td>\n",
       "      <td>2747454</td>\n",
       "      <td>10594</td>\n",
       "      <td>113.266602</td>\n",
       "      <td>-0.004223</td>\n",
       "    </tr>\n",
       "  </tbody>\n",
       "</table>\n",
       "</div>"
      ],
      "text/plain": [
       "                              SPY                                      \\\n",
       "                             open     high      low   close    volume   \n",
       "timestamp                                                               \n",
       "2019-09-03 04:00:00+00:00  290.56  291.580  289.270  290.74  69233875   \n",
       "2019-09-04 04:00:00+00:00  293.15  294.055  292.310  294.04  47160461   \n",
       "2019-09-05 04:00:00+00:00  296.78  298.830  294.001  297.82  83356779   \n",
       "2019-09-06 04:00:00+00:00  298.21  298.760  297.420  298.05  49676444   \n",
       "2019-09-09 04:00:00+00:00  299.15  299.240  297.160  298.20  51260290   \n",
       "\n",
       "                                                                   AGG  \\\n",
       "                          trade_count        vwap daily_return    open   \n",
       "timestamp                                                                \n",
       "2019-09-03 04:00:00+00:00      362212  290.492676          NaN  113.84   \n",
       "2019-09-04 04:00:00+00:00      236850  293.322384     0.011350  113.82   \n",
       "2019-09-05 04:00:00+00:00      377089  297.528062     0.012855  113.61   \n",
       "2019-09-06 04:00:00+00:00      255431  298.223331     0.000772  113.66   \n",
       "2019-09-09 04:00:00+00:00      241462  298.158399     0.000503  113.39   \n",
       "\n",
       "                                                                           \\\n",
       "                               high      low   close   volume trade_count   \n",
       "timestamp                                                                   \n",
       "2019-09-03 04:00:00+00:00  114.1200  113.690  113.84  6197557       24789   \n",
       "2019-09-04 04:00:00+00:00  114.0801  113.820  114.04  3814413       15256   \n",
       "2019-09-05 04:00:00+00:00  113.6700  113.300  113.55  5336501       19147   \n",
       "2019-09-06 04:00:00+00:00  113.7199  113.555  113.67  3675151       12845   \n",
       "2019-09-09 04:00:00+00:00  113.3900  113.180  113.19  2747454       10594   \n",
       "\n",
       "                                                    \n",
       "                                 vwap daily_return  \n",
       "timestamp                                           \n",
       "2019-09-03 04:00:00+00:00  113.939811          NaN  \n",
       "2019-09-04 04:00:00+00:00  114.008878     0.001757  \n",
       "2019-09-05 04:00:00+00:00  113.455162    -0.004297  \n",
       "2019-09-06 04:00:00+00:00  113.658735     0.001057  \n",
       "2019-09-09 04:00:00+00:00  113.266602    -0.004223  "
      ]
     },
     "execution_count": 76,
     "metadata": {},
     "output_type": "execute_result"
    }
   ],
   "source": [
    "# Configure a Monte Carlo simulation to forecast 10 years cumulative returns\n",
    "# The weights should be split 20% to AGG and 80% to SPY.\n",
    "# Run 500 samples.\n",
    "MCS_10_year = MCSimulation(\n",
    "    portfolio_data = prices_df,\n",
    "    weights = [.70,.30],\n",
    "    num_simulation = 500,\n",
    "    num_trading_days = 252*10\n",
    ")\n",
    "\n",
    "# Review the simulation input data\n",
    "MCS_10_year.portfolio_data.head()\n"
   ]
  },
  {
   "cell_type": "code",
   "execution_count": 77,
   "metadata": {},
   "outputs": [
    {
     "name": "stdout",
     "output_type": "stream",
     "text": [
      "Running Monte Carlo simulation number 0.\n",
      "Running Monte Carlo simulation number 10.\n",
      "Running Monte Carlo simulation number 20.\n",
      "Running Monte Carlo simulation number 30.\n",
      "Running Monte Carlo simulation number 40.\n",
      "Running Monte Carlo simulation number 50.\n",
      "Running Monte Carlo simulation number 60.\n",
      "Running Monte Carlo simulation number 70.\n",
      "Running Monte Carlo simulation number 80.\n",
      "Running Monte Carlo simulation number 90.\n",
      "Running Monte Carlo simulation number 100.\n"
     ]
    },
    {
     "name": "stderr",
     "output_type": "stream",
     "text": [
      "C:\\Users\\ychuk\\OneDrive\\Desktop\\FinTech\\Challenge_5\\Starter_Code\\Starter_Code\\MCForecastTools.py:117: PerformanceWarning: DataFrame is highly fragmented.  This is usually the result of calling `frame.insert` many times, which has poor performance.  Consider joining all columns at once using pd.concat(axis=1) instead.  To get a de-fragmented frame, use `newframe = frame.copy()`\n",
      "  portfolio_cumulative_returns[n] = (1 + sim_df.fillna(0)).cumprod()\n"
     ]
    },
    {
     "name": "stdout",
     "output_type": "stream",
     "text": [
      "Running Monte Carlo simulation number 110.\n",
      "Running Monte Carlo simulation number 120.\n",
      "Running Monte Carlo simulation number 130.\n",
      "Running Monte Carlo simulation number 140.\n",
      "Running Monte Carlo simulation number 150.\n",
      "Running Monte Carlo simulation number 160.\n",
      "Running Monte Carlo simulation number 170.\n",
      "Running Monte Carlo simulation number 180.\n",
      "Running Monte Carlo simulation number 190.\n",
      "Running Monte Carlo simulation number 200.\n",
      "Running Monte Carlo simulation number 210.\n",
      "Running Monte Carlo simulation number 220.\n",
      "Running Monte Carlo simulation number 230.\n",
      "Running Monte Carlo simulation number 240.\n",
      "Running Monte Carlo simulation number 250.\n",
      "Running Monte Carlo simulation number 260.\n",
      "Running Monte Carlo simulation number 270.\n",
      "Running Monte Carlo simulation number 280.\n",
      "Running Monte Carlo simulation number 290.\n",
      "Running Monte Carlo simulation number 300.\n",
      "Running Monte Carlo simulation number 310.\n",
      "Running Monte Carlo simulation number 320.\n",
      "Running Monte Carlo simulation number 330.\n",
      "Running Monte Carlo simulation number 340.\n",
      "Running Monte Carlo simulation number 350.\n",
      "Running Monte Carlo simulation number 360.\n",
      "Running Monte Carlo simulation number 370.\n",
      "Running Monte Carlo simulation number 380.\n",
      "Running Monte Carlo simulation number 390.\n",
      "Running Monte Carlo simulation number 400.\n",
      "Running Monte Carlo simulation number 410.\n",
      "Running Monte Carlo simulation number 420.\n",
      "Running Monte Carlo simulation number 430.\n",
      "Running Monte Carlo simulation number 440.\n",
      "Running Monte Carlo simulation number 450.\n",
      "Running Monte Carlo simulation number 460.\n",
      "Running Monte Carlo simulation number 470.\n",
      "Running Monte Carlo simulation number 480.\n",
      "Running Monte Carlo simulation number 490.\n"
     ]
    },
    {
     "data": {
      "text/html": [
       "<div>\n",
       "<style scoped>\n",
       "    .dataframe tbody tr th:only-of-type {\n",
       "        vertical-align: middle;\n",
       "    }\n",
       "\n",
       "    .dataframe tbody tr th {\n",
       "        vertical-align: top;\n",
       "    }\n",
       "\n",
       "    .dataframe thead th {\n",
       "        text-align: right;\n",
       "    }\n",
       "</style>\n",
       "<table border=\"1\" class=\"dataframe\">\n",
       "  <thead>\n",
       "    <tr style=\"text-align: right;\">\n",
       "      <th></th>\n",
       "      <th>0</th>\n",
       "      <th>1</th>\n",
       "      <th>2</th>\n",
       "      <th>3</th>\n",
       "      <th>4</th>\n",
       "      <th>5</th>\n",
       "      <th>6</th>\n",
       "      <th>7</th>\n",
       "      <th>8</th>\n",
       "      <th>9</th>\n",
       "      <th>...</th>\n",
       "      <th>490</th>\n",
       "      <th>491</th>\n",
       "      <th>492</th>\n",
       "      <th>493</th>\n",
       "      <th>494</th>\n",
       "      <th>495</th>\n",
       "      <th>496</th>\n",
       "      <th>497</th>\n",
       "      <th>498</th>\n",
       "      <th>499</th>\n",
       "    </tr>\n",
       "  </thead>\n",
       "  <tbody>\n",
       "    <tr>\n",
       "      <th>0</th>\n",
       "      <td>1.000000</td>\n",
       "      <td>1.000000</td>\n",
       "      <td>1.000000</td>\n",
       "      <td>1.000000</td>\n",
       "      <td>1.000000</td>\n",
       "      <td>1.000000</td>\n",
       "      <td>1.000000</td>\n",
       "      <td>1.000000</td>\n",
       "      <td>1.000000</td>\n",
       "      <td>1.000000</td>\n",
       "      <td>...</td>\n",
       "      <td>1.000000</td>\n",
       "      <td>1.000000</td>\n",
       "      <td>1.000000</td>\n",
       "      <td>1.000000</td>\n",
       "      <td>1.000000</td>\n",
       "      <td>1.000000</td>\n",
       "      <td>1.000000</td>\n",
       "      <td>1.000000</td>\n",
       "      <td>1.000000</td>\n",
       "      <td>1.000000</td>\n",
       "    </tr>\n",
       "    <tr>\n",
       "      <th>1</th>\n",
       "      <td>1.003591</td>\n",
       "      <td>0.991640</td>\n",
       "      <td>1.028101</td>\n",
       "      <td>1.015985</td>\n",
       "      <td>0.984095</td>\n",
       "      <td>0.998124</td>\n",
       "      <td>1.020232</td>\n",
       "      <td>0.980085</td>\n",
       "      <td>1.006423</td>\n",
       "      <td>0.993371</td>\n",
       "      <td>...</td>\n",
       "      <td>1.006562</td>\n",
       "      <td>1.017430</td>\n",
       "      <td>1.009456</td>\n",
       "      <td>0.993037</td>\n",
       "      <td>0.997582</td>\n",
       "      <td>0.997845</td>\n",
       "      <td>0.990125</td>\n",
       "      <td>1.002452</td>\n",
       "      <td>1.009780</td>\n",
       "      <td>0.995872</td>\n",
       "    </tr>\n",
       "    <tr>\n",
       "      <th>2</th>\n",
       "      <td>1.017387</td>\n",
       "      <td>0.986617</td>\n",
       "      <td>1.019368</td>\n",
       "      <td>1.024245</td>\n",
       "      <td>0.972174</td>\n",
       "      <td>0.994007</td>\n",
       "      <td>1.041371</td>\n",
       "      <td>0.980921</td>\n",
       "      <td>1.003337</td>\n",
       "      <td>0.986334</td>\n",
       "      <td>...</td>\n",
       "      <td>1.003392</td>\n",
       "      <td>1.008125</td>\n",
       "      <td>1.007244</td>\n",
       "      <td>0.983232</td>\n",
       "      <td>1.000741</td>\n",
       "      <td>0.979827</td>\n",
       "      <td>1.006049</td>\n",
       "      <td>0.985094</td>\n",
       "      <td>0.991751</td>\n",
       "      <td>0.991861</td>\n",
       "    </tr>\n",
       "    <tr>\n",
       "      <th>3</th>\n",
       "      <td>1.015830</td>\n",
       "      <td>0.995041</td>\n",
       "      <td>1.016458</td>\n",
       "      <td>1.012165</td>\n",
       "      <td>0.984654</td>\n",
       "      <td>0.995069</td>\n",
       "      <td>1.031031</td>\n",
       "      <td>0.978088</td>\n",
       "      <td>1.008484</td>\n",
       "      <td>0.974713</td>\n",
       "      <td>...</td>\n",
       "      <td>0.988498</td>\n",
       "      <td>1.011563</td>\n",
       "      <td>1.014372</td>\n",
       "      <td>0.996661</td>\n",
       "      <td>0.989231</td>\n",
       "      <td>0.971241</td>\n",
       "      <td>1.046416</td>\n",
       "      <td>0.978106</td>\n",
       "      <td>0.986006</td>\n",
       "      <td>0.982802</td>\n",
       "    </tr>\n",
       "    <tr>\n",
       "      <th>4</th>\n",
       "      <td>1.029995</td>\n",
       "      <td>1.008920</td>\n",
       "      <td>0.993719</td>\n",
       "      <td>1.010282</td>\n",
       "      <td>0.994962</td>\n",
       "      <td>1.001011</td>\n",
       "      <td>1.023268</td>\n",
       "      <td>0.963477</td>\n",
       "      <td>1.010675</td>\n",
       "      <td>0.995770</td>\n",
       "      <td>...</td>\n",
       "      <td>0.984522</td>\n",
       "      <td>1.015324</td>\n",
       "      <td>0.994315</td>\n",
       "      <td>0.997388</td>\n",
       "      <td>0.988659</td>\n",
       "      <td>0.976448</td>\n",
       "      <td>1.050864</td>\n",
       "      <td>0.980334</td>\n",
       "      <td>0.976443</td>\n",
       "      <td>0.972941</td>\n",
       "    </tr>\n",
       "    <tr>\n",
       "      <th>...</th>\n",
       "      <td>...</td>\n",
       "      <td>...</td>\n",
       "      <td>...</td>\n",
       "      <td>...</td>\n",
       "      <td>...</td>\n",
       "      <td>...</td>\n",
       "      <td>...</td>\n",
       "      <td>...</td>\n",
       "      <td>...</td>\n",
       "      <td>...</td>\n",
       "      <td>...</td>\n",
       "      <td>...</td>\n",
       "      <td>...</td>\n",
       "      <td>...</td>\n",
       "      <td>...</td>\n",
       "      <td>...</td>\n",
       "      <td>...</td>\n",
       "      <td>...</td>\n",
       "      <td>...</td>\n",
       "      <td>...</td>\n",
       "      <td>...</td>\n",
       "    </tr>\n",
       "    <tr>\n",
       "      <th>2516</th>\n",
       "      <td>1.873506</td>\n",
       "      <td>0.916528</td>\n",
       "      <td>1.643741</td>\n",
       "      <td>1.647721</td>\n",
       "      <td>5.067399</td>\n",
       "      <td>2.201071</td>\n",
       "      <td>1.001940</td>\n",
       "      <td>3.238114</td>\n",
       "      <td>2.379358</td>\n",
       "      <td>1.191296</td>\n",
       "      <td>...</td>\n",
       "      <td>2.125719</td>\n",
       "      <td>2.534917</td>\n",
       "      <td>1.060634</td>\n",
       "      <td>3.658177</td>\n",
       "      <td>1.668154</td>\n",
       "      <td>2.838273</td>\n",
       "      <td>0.806354</td>\n",
       "      <td>1.336364</td>\n",
       "      <td>2.615415</td>\n",
       "      <td>1.343241</td>\n",
       "    </tr>\n",
       "    <tr>\n",
       "      <th>2517</th>\n",
       "      <td>1.883902</td>\n",
       "      <td>0.908501</td>\n",
       "      <td>1.647770</td>\n",
       "      <td>1.658151</td>\n",
       "      <td>5.058343</td>\n",
       "      <td>2.204469</td>\n",
       "      <td>1.008972</td>\n",
       "      <td>3.241742</td>\n",
       "      <td>2.388421</td>\n",
       "      <td>1.181717</td>\n",
       "      <td>...</td>\n",
       "      <td>2.085845</td>\n",
       "      <td>2.537301</td>\n",
       "      <td>1.061145</td>\n",
       "      <td>3.664201</td>\n",
       "      <td>1.671802</td>\n",
       "      <td>2.891569</td>\n",
       "      <td>0.804023</td>\n",
       "      <td>1.337678</td>\n",
       "      <td>2.601789</td>\n",
       "      <td>1.353793</td>\n",
       "    </tr>\n",
       "    <tr>\n",
       "      <th>2518</th>\n",
       "      <td>1.910974</td>\n",
       "      <td>0.922244</td>\n",
       "      <td>1.636681</td>\n",
       "      <td>1.658186</td>\n",
       "      <td>5.104809</td>\n",
       "      <td>2.188123</td>\n",
       "      <td>1.012574</td>\n",
       "      <td>3.255880</td>\n",
       "      <td>2.416538</td>\n",
       "      <td>1.178370</td>\n",
       "      <td>...</td>\n",
       "      <td>2.055707</td>\n",
       "      <td>2.544594</td>\n",
       "      <td>1.054313</td>\n",
       "      <td>3.682362</td>\n",
       "      <td>1.713854</td>\n",
       "      <td>2.890592</td>\n",
       "      <td>0.799308</td>\n",
       "      <td>1.344229</td>\n",
       "      <td>2.658223</td>\n",
       "      <td>1.396511</td>\n",
       "    </tr>\n",
       "    <tr>\n",
       "      <th>2519</th>\n",
       "      <td>1.928858</td>\n",
       "      <td>0.934371</td>\n",
       "      <td>1.649228</td>\n",
       "      <td>1.668808</td>\n",
       "      <td>5.078586</td>\n",
       "      <td>2.195828</td>\n",
       "      <td>1.008624</td>\n",
       "      <td>3.262721</td>\n",
       "      <td>2.431444</td>\n",
       "      <td>1.187374</td>\n",
       "      <td>...</td>\n",
       "      <td>2.068100</td>\n",
       "      <td>2.561397</td>\n",
       "      <td>1.071159</td>\n",
       "      <td>3.690148</td>\n",
       "      <td>1.703208</td>\n",
       "      <td>2.891218</td>\n",
       "      <td>0.803480</td>\n",
       "      <td>1.357395</td>\n",
       "      <td>2.692656</td>\n",
       "      <td>1.376526</td>\n",
       "    </tr>\n",
       "    <tr>\n",
       "      <th>2520</th>\n",
       "      <td>1.908771</td>\n",
       "      <td>0.945474</td>\n",
       "      <td>1.661140</td>\n",
       "      <td>1.664664</td>\n",
       "      <td>5.042460</td>\n",
       "      <td>2.213223</td>\n",
       "      <td>0.992584</td>\n",
       "      <td>3.253162</td>\n",
       "      <td>2.387451</td>\n",
       "      <td>1.194209</td>\n",
       "      <td>...</td>\n",
       "      <td>2.042591</td>\n",
       "      <td>2.569870</td>\n",
       "      <td>1.067086</td>\n",
       "      <td>3.703453</td>\n",
       "      <td>1.733500</td>\n",
       "      <td>2.901012</td>\n",
       "      <td>0.807856</td>\n",
       "      <td>1.351536</td>\n",
       "      <td>2.645765</td>\n",
       "      <td>1.357099</td>\n",
       "    </tr>\n",
       "  </tbody>\n",
       "</table>\n",
       "<p>2521 rows × 500 columns</p>\n",
       "</div>"
      ],
      "text/plain": [
       "           0         1         2         3         4         5         6    \\\n",
       "0     1.000000  1.000000  1.000000  1.000000  1.000000  1.000000  1.000000   \n",
       "1     1.003591  0.991640  1.028101  1.015985  0.984095  0.998124  1.020232   \n",
       "2     1.017387  0.986617  1.019368  1.024245  0.972174  0.994007  1.041371   \n",
       "3     1.015830  0.995041  1.016458  1.012165  0.984654  0.995069  1.031031   \n",
       "4     1.029995  1.008920  0.993719  1.010282  0.994962  1.001011  1.023268   \n",
       "...        ...       ...       ...       ...       ...       ...       ...   \n",
       "2516  1.873506  0.916528  1.643741  1.647721  5.067399  2.201071  1.001940   \n",
       "2517  1.883902  0.908501  1.647770  1.658151  5.058343  2.204469  1.008972   \n",
       "2518  1.910974  0.922244  1.636681  1.658186  5.104809  2.188123  1.012574   \n",
       "2519  1.928858  0.934371  1.649228  1.668808  5.078586  2.195828  1.008624   \n",
       "2520  1.908771  0.945474  1.661140  1.664664  5.042460  2.213223  0.992584   \n",
       "\n",
       "           7         8         9    ...       490       491       492  \\\n",
       "0     1.000000  1.000000  1.000000  ...  1.000000  1.000000  1.000000   \n",
       "1     0.980085  1.006423  0.993371  ...  1.006562  1.017430  1.009456   \n",
       "2     0.980921  1.003337  0.986334  ...  1.003392  1.008125  1.007244   \n",
       "3     0.978088  1.008484  0.974713  ...  0.988498  1.011563  1.014372   \n",
       "4     0.963477  1.010675  0.995770  ...  0.984522  1.015324  0.994315   \n",
       "...        ...       ...       ...  ...       ...       ...       ...   \n",
       "2516  3.238114  2.379358  1.191296  ...  2.125719  2.534917  1.060634   \n",
       "2517  3.241742  2.388421  1.181717  ...  2.085845  2.537301  1.061145   \n",
       "2518  3.255880  2.416538  1.178370  ...  2.055707  2.544594  1.054313   \n",
       "2519  3.262721  2.431444  1.187374  ...  2.068100  2.561397  1.071159   \n",
       "2520  3.253162  2.387451  1.194209  ...  2.042591  2.569870  1.067086   \n",
       "\n",
       "           493       494       495       496       497       498       499  \n",
       "0     1.000000  1.000000  1.000000  1.000000  1.000000  1.000000  1.000000  \n",
       "1     0.993037  0.997582  0.997845  0.990125  1.002452  1.009780  0.995872  \n",
       "2     0.983232  1.000741  0.979827  1.006049  0.985094  0.991751  0.991861  \n",
       "3     0.996661  0.989231  0.971241  1.046416  0.978106  0.986006  0.982802  \n",
       "4     0.997388  0.988659  0.976448  1.050864  0.980334  0.976443  0.972941  \n",
       "...        ...       ...       ...       ...       ...       ...       ...  \n",
       "2516  3.658177  1.668154  2.838273  0.806354  1.336364  2.615415  1.343241  \n",
       "2517  3.664201  1.671802  2.891569  0.804023  1.337678  2.601789  1.353793  \n",
       "2518  3.682362  1.713854  2.890592  0.799308  1.344229  2.658223  1.396511  \n",
       "2519  3.690148  1.703208  2.891218  0.803480  1.357395  2.692656  1.376526  \n",
       "2520  3.703453  1.733500  2.901012  0.807856  1.351536  2.645765  1.357099  \n",
       "\n",
       "[2521 rows x 500 columns]"
      ]
     },
     "execution_count": 77,
     "metadata": {},
     "output_type": "execute_result"
    }
   ],
   "source": [
    "# Run the Monte Carlo simulation to forecast 10 years cumulative returns\n",
    "MCS_10_year.calc_cumulative_return()\n"
   ]
  },
  {
   "cell_type": "code",
   "execution_count": 78,
   "metadata": {},
   "outputs": [
    {
     "data": {
      "text/plain": [
       "<AxesSubplot:title={'center':'500 Simulations of Cumulative Portfolio Return Trajectories Over the Next 2520 Trading Days.'}>"
      ]
     },
     "execution_count": 78,
     "metadata": {},
     "output_type": "execute_result"
    },
    {
     "data": {
      "image/png": "[encoded data removed]",
      "text/plain": [
       "<Figure size 432x288 with 1 Axes>"
      ]
     },
     "metadata": {
      "needs_background": "light"
     },
     "output_type": "display_data"
    }
   ],
   "source": [
    "# Visualize the 10-year Monte Carlo simulation by creating an\n",
    "# overlay line plot\n",
    "MCS_10_year.plot_simulation()\n"
   ]
  },
  {
   "cell_type": "code",
   "execution_count": 79,
   "metadata": {},
   "outputs": [
    {
     "data": {
      "text/plain": [
       "<AxesSubplot:title={'center':'Distribution of Final Cumuluative Returns Across All 500 Simulations'}, ylabel='Frequency'>"
      ]
     },
     "execution_count": 79,
     "metadata": {},
     "output_type": "execute_result"
    },
    {
     "data": {
      "image/png": "[encoded data removed]",
      "text/plain": [
       "<Figure size 432x288 with 1 Axes>"
      ]
     },
     "metadata": {
      "needs_background": "light"
     },
     "output_type": "display_data"
    }
   ],
   "source": [
    "# Visualize the probability distribution of the 10-year Monte Carlo simulation \n",
    "# by plotting a histogram\n",
    "MCS_10_year.plot_distribution()"
   ]
  },
  {
   "cell_type": "code",
   "execution_count": 81,
   "metadata": {},
   "outputs": [
    {
     "name": "stdout",
     "output_type": "stream",
     "text": [
      "count           500.000000\n",
      "mean              2.161428\n",
      "std               1.256230\n",
      "min               0.423487\n",
      "25%               1.306382\n",
      "50%               1.880809\n",
      "75%               2.717316\n",
      "max               8.721384\n",
      "95% CI Lower      0.616944\n",
      "95% CI Upper      5.528583\n",
      "Name: 2520, dtype: float64\n"
     ]
    }
   ],
   "source": [
    "# Generate summary statistics from the 10-year Monte Carlo simulation results\n",
    "# Save the results as a variable\n",
    "MCS_10yr_summary_stats = MCS_10_year.summarize_cumulative_return()\n",
    "\n",
    "\n",
    "# Review the 10-year Monte Carlo summary statistics\n",
    "print(MCS_10yr_summary_stats)"
   ]
  },
  {
   "cell_type": "markdown",
   "metadata": {},
   "source": [
    "### Answer the following questions:"
   ]
  },
  {
   "cell_type": "markdown",
   "metadata": {},
   "source": [
    "#### Question: Using the current value of only the stock and bond portion of the member's portfolio and the summary statistics that you generated from the new Monte Carlo simulation, what are the lower and upper bounds for the expected value of the portfolio (with the new weights) with a 95% confidence interval?"
   ]
  },
  {
   "cell_type": "code",
   "execution_count": 82,
   "metadata": {},
   "outputs": [
    {
     "name": "stdout",
     "output_type": "stream",
     "text": [
      "63620.200000000004\n"
     ]
    }
   ],
   "source": [
    "# Print the current balance of the stock and bond portion of the members portfolio\n",
    "print(total_stocks_bonds)\n"
   ]
  },
  {
   "cell_type": "code",
   "execution_count": 84,
   "metadata": {},
   "outputs": [
    {
     "name": "stdout",
     "output_type": "stream",
     "text": [
      "There is a 95% chance that an initial investment of $ 63620.20 in the portfolio over the next 10 years will end in the range of $ 39250.10 and $ 351729.57.\n"
     ]
    }
   ],
   "source": [
    "# Use the lower and upper `95%` confidence intervals to calculate the range of the possible outcomes for the current stock/bond portfolio\n",
    "ci_lower_ten_cumulative_return = MCS_10yr_summary_stats[8] * total_stocks_bonds\n",
    "ci_upper_ten_cumulative_return = MCS_10yr_summary_stats[9] * total_stocks_bonds\n",
    "\n",
    "# Print the result of your calculations\n",
    "print(f\"There is a 95% chance that an initial investment of ${total_stocks_bonds: .2f} in the portfolio\"\n",
    "    f\" over the next 10 years will end in the range of\"\n",
    "    f\" ${ci_lower_ten_cumulative_return: .2f} and ${ci_upper_ten_cumulative_return: .2f}.\")\n"
   ]
  },
  {
   "cell_type": "markdown",
   "metadata": {},
   "source": [
    "#### Question: Will weighting the portfolio more heavily to stocks allow the credit union members to retire after only 10 years?"
   ]
  },
  {
   "cell_type": "raw",
   "metadata": {},
   "source": [
    "**Answer** Yes, weighing the portfolio more heavily to stocks allows the credit union members to retire after 10years because there is a probablity of having a really high expected return. It is also important to note that the high number of stocks increased the volitility of the portfolio. Investing in more bonds may help reduce that risk."
   ]
  },
  {
   "cell_type": "code",
   "execution_count": null,
   "metadata": {},
   "outputs": [],
   "source": []
  }
 ],
 "metadata": {
  "kernelspec": {
   "display_name": "Python 3 (ipykernel)",
   "language": "python",
   "name": "python3"
  },
  "language_info": {
   "codemirror_mode": {
    "name": "ipython",
    "version": 3
   },
   "file_extension": ".py",
   "mimetype": "text/x-python",
   "name": "python",
   "nbconvert_exporter": "python",
   "pygments_lexer": "ipython3",
   "version": "3.7.11"
  }
 },
 "nbformat": 4,
 "nbformat_minor": 4
}
